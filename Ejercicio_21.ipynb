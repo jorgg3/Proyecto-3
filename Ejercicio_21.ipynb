{
  "nbformat": 4,
  "nbformat_minor": 0,
  "metadata": {
    "colab": {
      "provenance": [],
      "authorship_tag": "ABX9TyNhSBfi8KEB7JV2MXDakfet",
      "include_colab_link": true
    },
    "kernelspec": {
      "name": "python3",
      "display_name": "Python 3"
    },
    "language_info": {
      "name": "python"
    }
  },
  "cells": [
    {
      "cell_type": "markdown",
      "metadata": {
        "id": "view-in-github",
        "colab_type": "text"
      },
      "source": [
        "<a href=\"https://colab.research.google.com/github/jorgg3/Proyecto-3/blob/main/Ejercicio_21.ipynb\" target=\"_parent\"><img src=\"https://colab.research.google.com/assets/colab-badge.svg\" alt=\"Open In Colab\"/></a>"
      ]
    },
    {
      "cell_type": "markdown",
      "source": [
        "# Práctica 3: Ajuste por Mínimos Cuadrados y Factorización QR\n",
        "**Problemas Computacionales**\\\n",
        "Alumno: Martínez de la Cruz José Jorge\\\n",
        "Profesor: César Carreón Otañez\\\n",
        "Ayudante:  Jesús Iván Coss Calderón"
      ],
      "metadata": {
        "id": "GbTF1QhywiYb"
      }
    },
    {
      "cell_type": "markdown",
      "source": [
        "21) Resolver\\\n",
        "a) Implementar el método de Gram-Schmidt para generar la matriz ortogonal $Q$ cuyas columnas forman una base ortogonal para el espacio columna de la Matriz $H$\n",
        "de Hilbert cuyas entras están dadas por\n",
        "$$\n",
        "h_{ij} = \\dfrac {1}{i + j - 1}, \\quad n = 2, \\dots, 12\n",
        "$$"
      ],
      "metadata": {
        "id": "DqbjAVh3wkPj"
      }
    },
    {
      "cell_type": "markdown",
      "source": [
        "Primero generemos la matríz"
      ],
      "metadata": {
        "id": "tVNZvfzb0g-Q"
      }
    },
    {
      "cell_type": "code",
      "source": [
        "import numpy as np"
      ],
      "metadata": {
        "id": "SEBMvECH0zh3"
      },
      "execution_count": 15,
      "outputs": []
    },
    {
      "cell_type": "code",
      "execution_count": 29,
      "metadata": {
        "id": "HBHS6E9awhwE"
      },
      "outputs": [],
      "source": [
        "def H(n): #Definimos la matríz\n",
        "    H = np.zeros((n, n)) #Inciiamos una matríz de 0 con tamaño n\n",
        "    for i in range(n): #Damos la condición de llenado\n",
        "        for j in range(n):\n",
        "            H[i, j] = 1 / (i + j + 1)  # Elemento h_ij = 1 / (i + j + 1)\n",
        "    return H"
      ]
    },
    {
      "cell_type": "markdown",
      "source": [
        "Veamos el ejemplo para n = 2"
      ],
      "metadata": {
        "id": "lUaG9H4E1QXZ"
      }
    },
    {
      "cell_type": "code",
      "source": [
        "def QR(A):\n",
        "    \"\"\"\n",
        "    Realiza la descomposición QR de una matriz A utilizando el método de Gram-Schmidt.\n",
        "\n",
        "    Parámetros:\n",
        "    A (numpy.ndarray): Matriz de entrada de tamaño (m x n), donde m es el número de filas y n el número de columnas.\n",
        "\n",
        "    Retorna:\n",
        "    Q (numpy.ndarray): Matriz ortogonal de tamaño (m x n), tal que Q^T * Q = I.\n",
        "    R (numpy.ndarray): Matriz triangular superior de tamaño (n x n).\n",
        "\n",
        "    El resultado satisface la relación A = Q * R, donde:\n",
        "    - Q es una matriz ortogonal (Q^T * Q = I).\n",
        "    - R es una matriz triangular superior.\n",
        "    \"\"\"\n",
        "\n",
        "    # Inicialización de las matrices Q y R\n",
        "    Q = np.empty_like(A)  # Matriz de salida Q, tendrá las mismas dimensiones que A\n",
        "    R = np.zeros([A.shape[1], A.shape[1]])  # Matriz cuadrada R de tamaño n x n\n",
        "    vi = np.zeros([A.shape[1]])  # Vector auxiliar vi\n",
        "\n",
        "    # Iteración sobre las columnas de A\n",
        "    for i in range(A.shape[1]):\n",
        "        # Comienza con el vector de la columna i de A\n",
        "        vi = A[:, i]\n",
        "\n",
        "        # Proceso de ortogonalización de Gram-Schmidt\n",
        "        for j in range(i):\n",
        "            # Calculamos la proyección de vi sobre los vectores Q anteriores\n",
        "            R[j, i] = np.dot(Q[:, j].T, vi)  # Proyección de vi sobre Q[:, j]\n",
        "            # Restamos la proyección de vi para mantener la ortogonalidad\n",
        "            vi = vi - R[j, i] * Q[:, j]\n",
        "\n",
        "        # Normalizamos el vector vi para obtener un vector unitario\n",
        "        R[i, i] = np.linalg.norm(vi, 2)  # Norma de vi, la longitud del vector\n",
        "        Q[:, i] = vi / R[i, i]  # Normalizamos para obtener el i-ésimo vector ortonormal de Q\n",
        "\n",
        "    # Retorna las matrices Q y R\n",
        "    return Q, R"
      ],
      "metadata": {
        "id": "XppdNZRp1gSD"
      },
      "execution_count": 28,
      "outputs": []
    },
    {
      "cell_type": "code",
      "source": [
        "H2 = H(2)\n",
        "H2"
      ],
      "metadata": {
        "colab": {
          "base_uri": "https://localhost:8080/"
        },
        "id": "lBxJegUW1PBR",
        "outputId": "9b3a24b4-2b09-451f-d932-3ead3894138f"
      },
      "execution_count": 30,
      "outputs": [
        {
          "output_type": "execute_result",
          "data": {
            "text/plain": [
              "array([[1.        , 0.5       ],\n",
              "       [0.5       , 0.33333333]])"
            ]
          },
          "metadata": {},
          "execution_count": 30
        }
      ]
    },
    {
      "cell_type": "code",
      "source": [
        "print(QR(H)[0])"
      ],
      "metadata": {
        "colab": {
          "base_uri": "https://localhost:8080/"
        },
        "id": "UQQhHPC61WqM",
        "outputId": "01be53e2-b43f-4407-b56b-78701d769f41"
      },
      "execution_count": 8,
      "outputs": [
        {
          "output_type": "stream",
          "name": "stdout",
          "text": [
            "[[ 0.89442719 -0.4472136 ]\n",
            " [ 0.4472136   0.89442719]]\n"
          ]
        }
      ]
    },
    {
      "cell_type": "markdown",
      "source": [
        "Como medida de calidad en los resultados (específicamente la perdida de ortogonalidad), graficar la cantidad\n",
        "$$\n",
        "- \\log_{10} \\left( \\| I - Q^T Q \\| \\right)\n",
        "$$\n",
        "la cual puede ser interpretada como los “dígitos de precisión”, para cada método como función de n."
      ],
      "metadata": {
        "id": "djFluYXz1xr5"
      }
    },
    {
      "cell_type": "code",
      "source": [
        "q2 = -np.log10(np.linalg.norm(np.eye(2) - QR(H)[0].T @ QR(H)[0]))\n",
        "q2"
      ],
      "metadata": {
        "colab": {
          "base_uri": "https://localhost:8080/"
        },
        "id": "jKi5ph-52CSc",
        "outputId": "255a8ddc-6e53-4951-b646-b75a0f5ecde8"
      },
      "execution_count": 9,
      "outputs": [
        {
          "output_type": "execute_result",
          "data": {
            "text/plain": [
              "14.631443679590733"
            ]
          },
          "metadata": {},
          "execution_count": 9
        }
      ]
    },
    {
      "cell_type": "markdown",
      "source": [
        "Realicemos el vector en función de \"n\" que usaremos para gráficar"
      ],
      "metadata": {
        "id": "jeyVNNEs2To5"
      }
    },
    {
      "cell_type": "code",
      "source": [
        "Y = []\n",
        "for i in range(2, 13):\n",
        "    Hi= H(i)\n",
        "    q = -np.log10(np.linalg.norm(np.eye(i) - QR(Hi)[0].T @ QR(Hi)[0]))\n",
        "    Y.append(q)"
      ],
      "metadata": {
        "id": "DfmPocel2a8R"
      },
      "execution_count": 31,
      "outputs": []
    },
    {
      "cell_type": "code",
      "source": [
        "pip install matplotlib\n"
      ],
      "metadata": {
        "colab": {
          "base_uri": "https://localhost:8080/"
        },
        "id": "EIue9kvo3l8H",
        "outputId": "aa953e3d-d0ee-4045-fda9-4de95aa66314"
      },
      "execution_count": 33,
      "outputs": [
        {
          "output_type": "stream",
          "name": "stdout",
          "text": [
            "Requirement already satisfied: matplotlib in /usr/local/lib/python3.10/dist-packages (3.8.0)\n",
            "Requirement already satisfied: contourpy>=1.0.1 in /usr/local/lib/python3.10/dist-packages (from matplotlib) (1.3.1)\n",
            "Requirement already satisfied: cycler>=0.10 in /usr/local/lib/python3.10/dist-packages (from matplotlib) (0.12.1)\n",
            "Requirement already satisfied: fonttools>=4.22.0 in /usr/local/lib/python3.10/dist-packages (from matplotlib) (4.54.1)\n",
            "Requirement already satisfied: kiwisolver>=1.0.1 in /usr/local/lib/python3.10/dist-packages (from matplotlib) (1.4.7)\n",
            "Requirement already satisfied: numpy<2,>=1.21 in /usr/local/lib/python3.10/dist-packages (from matplotlib) (1.26.4)\n",
            "Requirement already satisfied: packaging>=20.0 in /usr/local/lib/python3.10/dist-packages (from matplotlib) (24.2)\n",
            "Requirement already satisfied: pillow>=6.2.0 in /usr/local/lib/python3.10/dist-packages (from matplotlib) (11.0.0)\n",
            "Requirement already satisfied: pyparsing>=2.3.1 in /usr/local/lib/python3.10/dist-packages (from matplotlib) (3.2.0)\n",
            "Requirement already satisfied: python-dateutil>=2.7 in /usr/local/lib/python3.10/dist-packages (from matplotlib) (2.8.2)\n",
            "Requirement already satisfied: six>=1.5 in /usr/local/lib/python3.10/dist-packages (from python-dateutil>=2.7->matplotlib) (1.16.0)\n"
          ]
        }
      ]
    },
    {
      "cell_type": "code",
      "source": [
        "import matplotlib.pyplot as plt\n",
        "\n",
        "plt.plot(Y, marker='o', linestyle='-', color='r')\n",
        "plt.title('f = −log10(∥I−Q^t Q∥)')\n",
        "plt.xlabel('n')\n",
        "plt.ylabel('f(n)')\n",
        "\n",
        "# Mostrar\n",
        "plt.show()\n"
      ],
      "metadata": {
        "colab": {
          "base_uri": "https://localhost:8080/",
          "height": 472
        },
        "id": "1a4aHB9r3OH4",
        "outputId": "86a05be2-c2cb-4f2e-8647-bed1c4bec493"
      },
      "execution_count": 40,
      "outputs": [
        {
          "output_type": "display_data",
          "data": {
            "text/plain": [
              "<Figure size 640x480 with 1 Axes>"
            ],
            "image/png": "[encoded data removed]"
          },
          "metadata": {}
        }
      ]
    },
    {
      "cell_type": "markdown",
      "source": [
        "Lo que podemos concluir de ésta gráfica es que a mayor tamaño, la ortogonalidad disminuye :("
      ],
      "metadata": {
        "id": "JqTnXRlf4v7B"
      }
    },
    {
      "cell_type": "markdown",
      "source": [
        "Como segundo método de comparación, dada la matriz $Q$ obtenida del procedimiento Clásico de Gram-Schmidt, volver a calcular una nueva $Q$ con la anterior, es decir, aplicar dos veces el método. Graficar con (2) la medida de ortogonalidad creada."
      ],
      "metadata": {
        "id": "X-BWf_NW49Dy"
      }
    },
    {
      "cell_type": "code",
      "source": [
        "Y1 = []  # Lista para almacenar los resultados de cada iteración\n",
        "\n",
        "# Iterar sobre los tamaños de matrices de Hilbert de 2x2 hasta 12x12\n",
        "for i in range(2, 13):\n",
        "\n",
        "    # Generar la matriz de Hilbert de tamaño i x i\n",
        "    Hi = H(i)\n",
        "\n",
        "    # Realizar la factorización QR de la matriz Hi, obteniendo la matriz Q\n",
        "    K = QR(QR(Hi)[0])\n",
        "\n",
        "    # Calcular el valor de la expresión logaritmica:\n",
        "    # -np.log10(np.linalg.norm(np.eye(i) - K[0].T @ K[0]))\n",
        "    # Donde K[0] es la matriz Q después de la factorización QR\n",
        "    q = -np.log10(np.linalg.norm(np.eye(i) - K[0].T @ K[0]))\n",
        "\n",
        "    # Agregar el valor calculado a la lista Y\n",
        "    Y1.append(q)\n"
      ],
      "metadata": {
        "id": "-4zIMj9R5vdj"
      },
      "execution_count": 45,
      "outputs": []
    },
    {
      "cell_type": "code",
      "source": [
        "import matplotlib.pyplot as plt\n",
        "\n",
        "plt.plot(Y1, marker='o', linestyle='-', color='yellow')\n",
        "plt.title('f = −log10(∥I−Q^t Q∥)')\n",
        "plt.xlabel('n')\n",
        "plt.ylabel('f(n)')\n",
        "\n",
        "# Mostrar el gráfico\n",
        "plt.show()\n"
      ],
      "metadata": {
        "colab": {
          "base_uri": "https://localhost:8080/",
          "height": 472
        },
        "id": "a-BBgGl66SF3",
        "outputId": "194067bd-d5ca-4506-db32-68ae7a4dde87"
      },
      "execution_count": 46,
      "outputs": [
        {
          "output_type": "display_data",
          "data": {
            "text/plain": [
              "<Figure size 640x480 with 1 Axes>"
            ],
            "image/png": "[encoded data removed]"
          },
          "metadata": {}
        }
      ]
    },
    {
      "cell_type": "markdown",
      "source": [
        "Ahora vemos que aunque los valores de ortogonalidad se mantienen en el intervalo $(15, 16)$, mientras el tamaño de la matríz aumenta, la ortogonalidad sigue disminuyendo"
      ],
      "metadata": {
        "id": "UNhFCAIW6hkt"
      }
    },
    {
      "cell_type": "markdown",
      "source": [
        "b) Repetir a) usando la factorización de Householder para poner $H = QR$. Calcular la cantidad pedida en la ecuaci ́on (2) y comparar nuevamente con los dos anteriores."
      ],
      "metadata": {
        "id": "yHQ2r3w07AiR"
      }
    },
    {
      "cell_type": "code",
      "source": [
        "import numpy.linalg as LA\n",
        "\n",
        "def Householder(A):\n",
        "    \"\"\"\n",
        "    Realiza la descomposición QR de una matriz A utilizando el método de Householder.\n",
        "\n",
        "    Parámetros:\n",
        "    A (numpy.ndarray): Matriz de entrada de tamaño (m, n) que se desea descomponer.\n",
        "                        La matriz A debe tener dimensiones m x n.\n",
        "\n",
        "    Retorna:\n",
        "    tuple: Una tupla (Q, R) donde:\n",
        "        - Q (numpy.ndarray): Matriz ortogonal (m x m) tal que Q^T * Q = I.\n",
        "        - R (numpy.ndarray): Matriz triangular superior (m x n) que contiene los coeficientes de la factorización QR.\n",
        "\n",
        "    Descripción:\n",
        "    El método de Householder se utiliza para descomponer una matriz A de tamaño m x n en una matriz ortogonal Q y una matriz triangular superior R tal que:\n",
        "\n",
        "    A = Q * R\n",
        "\n",
        "    El algoritmo se basa en la idea de aplicar reflexiones (matrices de Householder) para convertir las columnas de A en un sistema de vectores ortogonales.\n",
        "\n",
        "    Procedimiento:\n",
        "    1. Se iteran las columnas de la matriz A.\n",
        "    2. Para cada columna, se genera un vector de Householder que \"refleja\" la columna actual hacia una dirección específica.\n",
        "    3. Se actualizan las matrices \\( Q \\) y \\( A \\) en cada paso.\n",
        "    4. La matriz \\( Q \\) se obtiene como el producto de las matrices de Householder acumuladas, mientras que la matriz \\( A \\) se va transformando en la matriz triangular superior \\( R \\).\n",
        "\n",
        "    La función devuelve las matrices Q (ortogonal) y R (triangular superior) que cumplen la relación A = Q * R.\n",
        "\n",
        "    Notas:\n",
        "    - El vector xi es la copia de la columna de A a partir del elemento i-ésimo.\n",
        "    - El vector ui es el vector de Householder, que es el eje de la reflexión.\n",
        "    - El vector vi es normalizado para asegurar que la reflexión sea correcta.\n",
        "    - Se actualiza la matriz \\( A \\) y la matriz acumulativa \\( Q \\) en cada iteración.\n",
        "    \"\"\"\n",
        "\n",
        "    # Inicialización: Q es la matriz identidad y se va acumulando\n",
        "    Q = np.eye(len(A))\n",
        "\n",
        "    # Número de columnas de A\n",
        "    n = A.shape[1]\n",
        "\n",
        "    # Iterar sobre cada columna\n",
        "    for i in range(n):\n",
        "        # Inicializar xi, un vector con ceros\n",
        "        xi = np.zeros(len(A))\n",
        "\n",
        "        # Tomar el subvector de la columna de A a partir del i-ésimo índice\n",
        "        xi[i:] = A[:, i][i:]\n",
        "\n",
        "        # Calcular la norma de xi\n",
        "        norm_x = LA.norm(xi)\n",
        "\n",
        "        # Crear un vector unitario ei\n",
        "        ei = np.zeros(len(A))\n",
        "        ei[i] = 1.0\n",
        "\n",
        "        # Generar el vector ui de Householder\n",
        "        ui = xi + np.sign(A[i, i]) * norm_x * ei\n",
        "\n",
        "        # Normalizar el vector ui para obtener vi\n",
        "        vi = ui / LA.norm(ui)\n",
        "\n",
        "        # Reshape de vi a un vector columna\n",
        "        vi = vi.reshape(-1, 1)\n",
        "\n",
        "        # Crear la matriz de Householder H\n",
        "        H = np.eye(len(A)) - 2 * vi @ vi.T\n",
        "\n",
        "        # Actualizar la matriz A\n",
        "        A = H @ A\n",
        "\n",
        "        # Actualizar la matriz Q\n",
        "        Q = Q @ H\n",
        "\n",
        "    return Q, A"
      ],
      "metadata": {
        "id": "GS9biXhR7Fjx"
      },
      "execution_count": 48,
      "outputs": []
    },
    {
      "cell_type": "code",
      "source": [
        "Y2 = []\n",
        "for i in range(2, 13):\n",
        "    Hi= H(i)\n",
        "    K = Householder(Hi)\n",
        "    q = -np.log10(np.linalg.norm(np.eye(i) - K[0].T @ K[0]))\n",
        "    Y2.append(q)"
      ],
      "metadata": {
        "id": "A1lZRR7r7Qd3"
      },
      "execution_count": 51,
      "outputs": []
    },
    {
      "cell_type": "code",
      "source": [
        "import matplotlib.pyplot as plt\n",
        "\n",
        "plt.plot(Y2, marker='o', linestyle='-', color='purple')\n",
        "plt.title('f = −log10(∥I−Q^t Q∥)')\n",
        "plt.xlabel('n')\n",
        "plt.ylabel('f(n)')\n",
        "\n",
        "# Mostrar el gráfico\n",
        "plt.show()"
      ],
      "metadata": {
        "colab": {
          "base_uri": "https://localhost:8080/",
          "height": 472
        },
        "id": "Wesh3gci7qmX",
        "outputId": "8ddbfaec-3571-479f-b551-5aac408fd0f2"
      },
      "execution_count": 52,
      "outputs": [
        {
          "output_type": "display_data",
          "data": {
            "text/plain": [
              "<Figure size 640x480 with 1 Axes>"
            ],
            "image/png": "[encoded data removed]"
          },
          "metadata": {}
        }
      ]
    },
    {
      "cell_type": "markdown",
      "source": [
        "Los datos son muy parecidos a los obtenidos al aplicar dos veces la ortogonalización de Graham-Smitchd, lo que nos dice que es un mejor método pero no indica que deja de caer la ortogonalidad"
      ],
      "metadata": {
        "id": "tjAmHtee7wYM"
      }
    },
    {
      "cell_type": "markdown",
      "source": [
        "c) Una manera de calcular una base ortogonal es usando las ecuaciones normales. Al formar la matriz de las ecuaciones normales y calcular su factorización de Cholesky $( A^T A = L L^T )$,\n",
        "tenemos:\n",
        "$$\n",
        "I = L^{-1} (A^T A) L^{-T} = (A L^{-T})^T (A L^{-T})\n",
        "$$\n",
        "\n",
        "es decir,\n",
        "\n",
        "$$\n",
        "Q = A L^t\n",
        "$$\n",
        "\n",
        "Es ortogonal y su espacio columna es el mismo que el de $A$. Repetir el\n",
        "procedimiento anterior usando la matriz $Q$ obtenida arriba. Graficar los resultados comparando con los obtenidos por Gram-Schmidt.\n"
      ],
      "metadata": {
        "id": "kUrUikPI8Axd"
      }
    },
    {
      "cell_type": "code",
      "source": [
        "def Cholesky(A):\n",
        "    \"\"\"\n",
        "    Realiza la descomposición de Cholesky de una matriz simétrica y definida positiva.\n",
        "\n",
        "    La descomposición de Cholesky de una matriz A se expresa como:\n",
        "    A = L * L^T\n",
        "    donde:\n",
        "        - A es la matriz de entrada (simétrica y definida positiva).\n",
        "        - L es una matriz triangular inferior (con ceros sobre la diagonal).\n",
        "\n",
        "    Parámetros:\n",
        "    A (numpy.ndarray): Matriz cuadrada simétrica y definida positiva de tamaño n x n.\n",
        "\n",
        "    Retorna:\n",
        "    L (numpy.ndarray): Matriz triangular inferior de tamaño n x n tal que A = L * L^T.\n",
        "\n",
        "    Excepciones:\n",
        "    Si la matriz A no es simétrica o definida positiva, este algoritmo puede fallar\n",
        "    o devolver resultados incorrectos.\n",
        "\n",
        "    El algoritmo sigue el siguiente procedimiento:\n",
        "    1. Inicializa una matriz L de ceros de las mismas dimensiones que A.\n",
        "    2. Calcula los elementos de la matriz triangular inferior L usando la fórmula de Cholesky.\n",
        "    3. La diagonal de L es calculada con la raíz cuadrada de los elementos de A.\n",
        "    4. Los elementos fuera de la diagonal se calculan usando las sumas de productos previamente computadas.\n",
        "\n",
        "    \"\"\"\n",
        "    # Determina el tamaño de la matriz A\n",
        "    n = len(A)\n",
        "\n",
        "    # Crea una matriz L de ceros del mismo tamaño que A\n",
        "    L = np.zeros_like(A)\n",
        "\n",
        "    # Recorre las filas y columnas de A para calcular los elementos de L\n",
        "    for i in range(n):\n",
        "        for j in range(i + 1):\n",
        "            # Si estamos en la diagonal principal\n",
        "            if i == j:\n",
        "                # Calculamos la suma de los cuadrados de los elementos previos de la fila\n",
        "                sum = 0.0\n",
        "                for k in range(j):\n",
        "                    sum += L[j][k] * L[j][k]\n",
        "                # La raíz cuadrada del valor en A[j][j] menos la suma anterior da el valor de L[j][j]\n",
        "                L[j][j] = np.sqrt(A[j][j] - sum)\n",
        "            else:\n",
        "                # Si estamos en la parte inferior de la matriz (por debajo de la diagonal)\n",
        "                sum = 0.0\n",
        "                for k in range(j):\n",
        "                    sum += L[i][k] * L[j][k]\n",
        "                # Usamos la fórmula para calcular los valores fuera de la diagonal\n",
        "                L[i][j] = (A[i][j] - sum) / L[j][j]\n",
        "\n",
        "    return L"
      ],
      "metadata": {
        "id": "FH5FRbk88h9i"
      },
      "execution_count": 53,
      "outputs": []
    },
    {
      "cell_type": "code",
      "source": [
        "def LAQ(A):\n",
        "    L = Cholesky(A.T @ A)  # Calcula la factorización de Cholesky de A^T * A\n",
        "    Q = A @ L.T  # Obtiene la matriz ortogonal Q usando la factorización de Cholesky\n",
        "    return Q"
      ],
      "metadata": {
        "id": "XFNjl-mS9C57"
      },
      "execution_count": 55,
      "outputs": []
    },
    {
      "cell_type": "code",
      "source": [
        "Y3 = []\n",
        "for i in range(2, 13):\n",
        "    Hi= H(i)\n",
        "    K = LAQ(Hi)\n",
        "    q = -np.log10(np.linalg.norm(np.eye(i) - K.T @ K))\n",
        "    Y3.append(q)"
      ],
      "metadata": {
        "colab": {
          "base_uri": "https://localhost:8080/"
        },
        "id": "zsx7DxYf9Ucp",
        "outputId": "8f471c69-f7bf-4c66-d3f1-3ecede62d668"
      },
      "execution_count": 59,
      "outputs": [
        {
          "output_type": "stream",
          "name": "stderr",
          "text": [
            "<ipython-input-53-dbf978d11f18>:44: RuntimeWarning: invalid value encountered in sqrt\n",
            "  L[j][j] = np.sqrt(A[j][j] - sum)\n"
          ]
        }
      ]
    },
    {
      "cell_type": "code",
      "source": [
        "Y3"
      ],
      "metadata": {
        "colab": {
          "base_uri": "https://localhost:8080/"
        },
        "id": "p2DJjMon9zB9",
        "outputId": "1f2763c2-a774-46e8-8081-d93d20d3125f"
      },
      "execution_count": 61,
      "outputs": [
        {
          "output_type": "execute_result",
          "data": {
            "text/plain": [
              "[-0.1653058882905161,\n",
              " -0.3701882877449364,\n",
              " -0.48343502922053483,\n",
              " -0.5593074788050555,\n",
              " -0.6153206003607528,\n",
              " -0.6592057935896224,\n",
              " -0.6950030305750963,\n",
              " -0.7250662227722142,\n",
              " nan,\n",
              " nan,\n",
              " nan]"
            ]
          },
          "metadata": {},
          "execution_count": 61
        }
      ]
    },
    {
      "cell_type": "code",
      "source": [
        "import matplotlib.pyplot as plt\n",
        "\n",
        "plt.plot(Y3, marker='o', linestyle='-', color='orange')\n",
        "plt.title('f = −log10(∥I−Q^t Q∥)')\n",
        "plt.xlabel('n')\n",
        "plt.ylabel('f(n)')\n",
        "\n",
        "# Mostrar el gráfico\n",
        "plt.show()"
      ],
      "metadata": {
        "colab": {
          "base_uri": "https://localhost:8080/",
          "height": 472
        },
        "id": "8w2slHKF-F-h",
        "outputId": "33d0a37d-e750-480c-9e80-e95a3da2e4f4"
      },
      "execution_count": 62,
      "outputs": [
        {
          "output_type": "display_data",
          "data": {
            "text/plain": [
              "<Figure size 640x480 with 1 Axes>"
            ],
            "image/png": "[encoded data removed]"
          },
          "metadata": {}
        }
      ]
    },
    {
      "cell_type": "markdown",
      "source": [
        "En este caso, el coeficiente de ortogonalidad desde un inicio fue muy bajo."
      ],
      "metadata": {
        "id": "3CRPW0Tj-NgH"
      }
    },
    {
      "cell_type": "markdown",
      "source": [
        "d) ¿Se puede dar una explicación de la calidad de los resultados obtenidos por los distintos métodos?\n",
        "Sí, las matríces de Hilbert tienen la particularidad  de ser ejemplos canónicos de matrices mal condicionadas, siendo notoriamente difíciles de usar en computación numérica. El número de condición del $n×n$ Hilbert matriz crece como ${\\displaystyle O \\left(\\left(1+{\\sqrt {2}}\\right)^{4n}/{\\sqrt {n}}\\right)}$. [1]"
      ],
      "metadata": {
        "id": "2hbmuTWZ-U-j"
      }
    },
    {
      "cell_type": "markdown",
      "source": [
        "La característica esencial de esta matriz es que su determinante se va aproximando a cero cuando el orden de la misma va en aumento. Mas formalmente se puede expresar lo anterior diciendo:\n",
        "$$\n",
        "\\lim _{n → ∞} det(H(n)) = 0\n",
        "$$\n",
        "Esta particularidad hace que el calculo de su inversa se sumamente dificultoso a medida de que aumente el orden la matriz a raíz de que cada vez dicha matriz esta mas cerca de ser singular. [2]"
      ],
      "metadata": {
        "id": "hqv9bUGF_jeV"
      }
    },
    {
      "cell_type": "markdown",
      "source": [
        "[1] Academia Lab. (2024). Matriz de Hilbert. Enciclopedia. Revisado el 16 de noviembre del 2024. https://academia-lab.com/enciclopedia/matriz-de-hilbert/ \\\\\n",
        "\n",
        "[2] Oviedo, J. La Matriz de Hilbert y su Inversa – Cálculo por medio de Maple, Mathemática,  Gauss, Matlab y Macros en Excel. Recuperado el 16 de noviembre de 2024 de: https://studylib.es/doc/4676705/la-matriz-de-hilbert-y-su-inversa-%E2%80%93-c%C3%A1lculo-por-medio-de-..."
      ],
      "metadata": {
        "id": "-qYgTVTY_PWy"
      }
    }
  ]
}