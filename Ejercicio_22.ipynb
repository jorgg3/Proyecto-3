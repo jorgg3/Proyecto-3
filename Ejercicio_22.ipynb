{
  "nbformat": 4,
  "nbformat_minor": 0,
  "metadata": {
    "colab": {
      "provenance": [],
      "authorship_tag": "ABX9TyPUBHIdBW8ZKoAuUc8szlNj",
      "include_colab_link": true
    },
    "kernelspec": {
      "name": "python3",
      "display_name": "Python 3"
    },
    "language_info": {
      "name": "python"
    }
  },
  "cells": [
    {
      "cell_type": "markdown",
      "metadata": {
        "id": "view-in-github",
        "colab_type": "text"
      },
      "source": [
        "<a href=\"https://colab.research.google.com/github/jorgg3/Proyecto-3/blob/main/Ejercicio_22.ipynb\" target=\"_parent\"><img src=\"https://colab.research.google.com/assets/colab-badge.svg\" alt=\"Open In Colab\"/></a>"
      ]
    },
    {
      "cell_type": "markdown",
      "source": [
        "# Práctica 3: Ajuste por Mínimos Cuadrados y Factorización QR\n",
        "**Problemas Computacionales**\\\n",
        "Alumno: Martínez de la Cruz José Jorge\\\n",
        "Profesor: César Carreón Otañez\\\n",
        "Ayudante:  Jesús Iván Coss Calderón"
      ],
      "metadata": {
        "id": "AcSGhEVxisA5"
      }
    },
    {
      "cell_type": "markdown",
      "source": [
        "¿Cuál es la solución exacta al problema de mínimos cuadrados como función de $ε$ para el siguiente sistema?:\n",
        "$$\n",
        "\\begin{bmatrix}\n",
        "1 & 1 & 1 \\\\\n",
        "\\epsilon & 0 & 0 \\\\\n",
        "0 & \\epsilon & 0 \\\\\n",
        "0 & 0 & \\epsilon\n",
        "\\end{bmatrix}\n",
        "\\begin{pmatrix}\n",
        "x_1 \\\\\n",
        "x_2 \\\\\n",
        "x_3\n",
        "\\end{pmatrix}\n",
        "\\approx\n",
        "\\begin{pmatrix}\n",
        "1 \\\\\n",
        "0 \\\\\n",
        "0 \\\\\n",
        "0\n",
        "\\end{pmatrix}\n",
        "$$"
      ],
      "metadata": {
        "id": "bHp2__ZyiuER"
      }
    },
    {
      "cell_type": "markdown",
      "source": [
        "Resolver el problema de mínimos cuadrados usando cada usando cada uno de los métodos listados. Para cada método variar el valor de $\\epsilon$ tan pequeño como se pueda hasta obtener una solución exacta.\n",
        "Probar explícitamente valores cercanos a\n",
        "$$\n",
        "ϵ ≈ \\sqrt{ϵ_m} \\, \\, \\, \\, \\, \\, \\, \\ ϵ \\approx ϵ_m\n",
        "$$\n",
        "Mostrar al menos 3 valores de $ϵ$ para los cuales se aplicaron las pruebas."
      ],
      "metadata": {
        "id": "FWX9gau4jRhY"
      }
    },
    {
      "cell_type": "code",
      "source": [
        "import numpy as np"
      ],
      "metadata": {
        "id": "gdNhqjsakalL"
      },
      "execution_count": 1,
      "outputs": []
    },
    {
      "cell_type": "markdown",
      "source": [
        "## Método de Ecuaciones Normales"
      ],
      "metadata": {
        "id": "Xo0AvXZKkHaz"
      }
    },
    {
      "cell_type": "code",
      "execution_count": 2,
      "metadata": {
        "id": "A7mfL2a-irND"
      },
      "outputs": [],
      "source": [
        "def SustDelante(L, b):\n",
        "    \"\"\"\n",
        "    Resuelve un sistema de ecuaciones L * x = b, donde L es una matriz triangular inferior.\n",
        "\n",
        "    Parámetros:\n",
        "    L (numpy.ndarray): Matriz triangular inferior.\n",
        "    b (numpy.ndarray): Vector columna de tamaño n, lado derecho del sistema.\n",
        "\n",
        "    Retorna:\n",
        "    x (numpy.ndarray): Vector solución del sistema L * x = b.\n",
        "    \"\"\"\n",
        "    x = np.zeros_like(b)  # Crea un vector x de ceros del mismo tamaño que b\n",
        "    n = L.shape[0]  # Obtiene el número de renglones de L\n",
        "    for i in range(n):  # Recorre las filas de L\n",
        "        sum = 0.0\n",
        "        for j in range(i):  # Suma los productos de la parte ya resuelta de x\n",
        "            sum += L[i, j] * x[j]\n",
        "        # Resuelve para x[i]\n",
        "        x[i] = (b[i] - sum) / L[i, i]\n",
        "\n",
        "    return x  # Devuelve la solución\n",
        "\n",
        "def SustAtras(U, y):\n",
        "    \"\"\"\n",
        "    Resuelve un sistema de ecuaciones U * x = y, donde U es una matriz triangular superior.\n",
        "\n",
        "    Parámetros:\n",
        "    U (numpy.ndarray): Matriz triangular superior.\n",
        "    y (numpy.ndarray): Vector columna de tamaño n, lado derecho del sistema.\n",
        "\n",
        "    Retorna:\n",
        "    x (numpy.ndarray): Vector solución del sistema U * x = y.\n",
        "    \"\"\"\n",
        "    x = np.zeros_like(y)  # Crea un vector x de ceros del mismo tamaño que y\n",
        "    n = U.shape[0]  # Obtiene el número de renglones de U\n",
        "    x[n-1] = y[n-1] / U[n-1, n-1]  # Resuelve el último valor de x\n",
        "    for i in range(n-2, -1, -1):  # Recorre las filas desde la penúltima hasta la primera\n",
        "        sum = 0.0\n",
        "        for j in range(i+1, n):  # Suma los productos de los valores ya resueltos de x\n",
        "            sum += U[i, j] * x[j]\n",
        "        # Resuelve para x[i]\n",
        "        x[i] = (y[i] - sum) / U[i, i]\n",
        "\n",
        "    return x  # Devuelve la solución\n",
        "\n",
        "\n",
        "\n",
        "def Cholesky(A):\n",
        "    \"\"\"\n",
        "    Realiza la descomposición de Cholesky de una matriz simétrica y definida positiva.\n",
        "\n",
        "    La descomposición de Cholesky de una matriz A se expresa como:\n",
        "    A = L * L^T\n",
        "    donde:\n",
        "        - A es la matriz de entrada (simétrica y definida positiva).\n",
        "        - L es una matriz triangular inferior (con ceros sobre la diagonal).\n",
        "\n",
        "    Parámetros:\n",
        "    A (numpy.ndarray): Matriz cuadrada simétrica y definida positiva de tamaño n x n.\n",
        "\n",
        "    Retorna:\n",
        "    L (numpy.ndarray): Matriz triangular inferior de tamaño n x n tal que A = L * L^T.\n",
        "\n",
        "    Excepciones:\n",
        "    Si la matriz A no es simétrica o definida positiva, este algoritmo puede fallar\n",
        "    o devolver resultados incorrectos.\n",
        "\n",
        "    El algoritmo sigue el siguiente procedimiento:\n",
        "    1. Inicializa una matriz L de ceros de las mismas dimensiones que A.\n",
        "    2. Calcula los elementos de la matriz triangular inferior L usando la fórmula de Cholesky.\n",
        "    3. La diagonal de L es calculada con la raíz cuadrada de los elementos de A.\n",
        "    4. Los elementos fuera de la diagonal se calculan usando las sumas de productos previamente computadas.\n",
        "\n",
        "    \"\"\"\n",
        "    # Determina el tamaño de la matriz A\n",
        "    n = len(A)\n",
        "\n",
        "    # Crea una matriz L de ceros del mismo tamaño que A\n",
        "    L = np.zeros_like(A)\n",
        "\n",
        "    # Recorre las filas y columnas de A para calcular los elementos de L\n",
        "    for i in range(n):\n",
        "        for j in range(i + 1):\n",
        "            # Si estamos en la diagonal principal\n",
        "            if i == j:\n",
        "                # Calculamos la suma de los cuadrados de los elementos previos de la fila\n",
        "                sum = 0.0\n",
        "                for k in range(j):\n",
        "                    sum += L[j][k] * L[j][k]\n",
        "                # La raíz cuadrada del valor en A[j][j] menos la suma anterior da el valor de L[j][j]\n",
        "                L[j][j] = np.sqrt(A[j][j] - sum)\n",
        "            else:\n",
        "                # Si estamos en la parte inferior de la matriz (por debajo de la diagonal)\n",
        "                sum = 0.0\n",
        "                for k in range(j):\n",
        "                    sum += L[i][k] * L[j][k]\n",
        "                # Usamos la fórmula para calcular los valores fuera de la diagonal\n",
        "                L[i][j] = (A[i][j] - sum) / L[j][j]\n",
        "\n",
        "    return L"
      ]
    },
    {
      "cell_type": "code",
      "source": [
        "def EcNormal(A, b):\n",
        "    \"\"\"\n",
        "    Resuelve el sistema de ecuaciones lineales A * x = b utilizando el método de los mínimos cuadrados\n",
        "    con la descomposición de Cholesky de la matriz A^T * A.\n",
        "\n",
        "    Este método se utiliza cuando el sistema no tiene solución exacta o es sobredeterminado (más ecuaciones que incógnitas).\n",
        "    En lugar de resolver el sistema directamente, se resuelve el sistema equivalente A^T * A * x = A^T * b,\n",
        "    que tiene solución en el sentido de los mínimos cuadrados.\n",
        "\n",
        "    Parámetros:\n",
        "    A (numpy.ndarray): Matriz de coeficientes del sistema de ecuaciones de tamaño m x n (m >= n).\n",
        "    b (numpy.ndarray): Vector columna de tamaño m, que es el lado derecho del sistema de ecuaciones.\n",
        "\n",
        "    Retorna:\n",
        "    xSol (numpy.ndarray): El vector solución x, que es la solución de mínimos cuadrados al sistema A * x = b.\n",
        "\n",
        "    Procedimiento:\n",
        "    1. Calculamos el sistema equivalente A^T * A * x = A^T * b.\n",
        "    2. Aplicamos la descomposición de Cholesky a la matriz A^T * A para obtener una matriz triangular inferior L.\n",
        "    3. Resolvemos el sistema triangular inferior L * y = A^T * b mediante sustitución hacia adelante (SustDelante).\n",
        "    4. Resolvemos el sistema triangular superior L^T * x = y mediante sustitución hacia atrás (SustAtras).\n",
        "    \"\"\"\n",
        "\n",
        "    # Calculamos el sistema equivalente A^T * A * x = A^T * b\n",
        "    AtA = A.T @ A  # Matriz generalizada (A^T * A)\n",
        "    Atb = A.T @ b  # Vector del sistema equivalente (A^T * b)\n",
        "\n",
        "    # Descomposición de Cholesky de A^T * A\n",
        "    L = Cholesky(AtA)  # L es la matriz triangular inferior tal que A^T * A = L * L^T\n",
        "    Lt = L.T  # La transpuesta de L, es la matriz triangular superior\n",
        "\n",
        "    # Resolvemos el sistema L * y = A^T * b mediante sustitución hacia adelante\n",
        "    ySol = SustDelante(L, Atb)\n",
        "\n",
        "    # Resolvemos el sistema L^T * x = ySol mediante sustitución hacia atrás\n",
        "    xSol = SustAtras(Lt, ySol)\n",
        "\n",
        "    return xSol\n"
      ],
      "metadata": {
        "id": "kFnM1T2skik6"
      },
      "execution_count": 3,
      "outputs": []
    },
    {
      "cell_type": "markdown",
      "source": [
        "Para $ϵ = 10 ^{-15}$"
      ],
      "metadata": {
        "id": "ABtRaX-LklpF"
      }
    },
    {
      "cell_type": "code",
      "source": [
        "epsilon = 10**(-15)\n",
        "A = np.array([[1, 1, 1], [epsilon, 0, 0], [0, epsilon, 0], [0, 0, epsilon]])\n",
        "b = np.array([1, 0, 0, 0])"
      ],
      "metadata": {
        "id": "27jrA-Mqk7DE"
      },
      "execution_count": 4,
      "outputs": []
    },
    {
      "cell_type": "code",
      "source": [
        "EcNormal(A, b)"
      ],
      "metadata": {
        "colab": {
          "base_uri": "https://localhost:8080/"
        },
        "id": "RD5p_3BOk9EG",
        "outputId": "780dffa8-75f7-477d-9ad0-f9e8be59ee90"
      },
      "execution_count": 5,
      "outputs": [
        {
          "output_type": "stream",
          "name": "stderr",
          "text": [
            "<ipython-input-2-1a14081ffdc9>:98: RuntimeWarning: invalid value encountered in scalar divide\n",
            "  L[i][j] = (A[i][j] - sum) / L[j][j]\n",
            "<ipython-input-2-1a14081ffdc9>:19: RuntimeWarning: invalid value encountered in scalar divide\n",
            "  x[i] = (b[i] - sum) / L[i, i]\n"
          ]
        },
        {
          "output_type": "execute_result",
          "data": {
            "text/plain": [
              "array([nan, nan, nan])"
            ]
          },
          "metadata": {},
          "execution_count": 5
        }
      ]
    },
    {
      "cell_type": "markdown",
      "source": [
        "Con el epsilon escogido, nos encontramos con problemas computacionales de valores muy grandes o muy pequeños"
      ],
      "metadata": {
        "id": "I0Ycmz-xlIL7"
      }
    },
    {
      "cell_type": "code",
      "source": [
        "epsilon = 10**(-10)\n",
        "A = np.array([[1, 1, 1], [epsilon, 0, 0], [0, epsilon, 0], [0, 0, epsilon]])\n",
        "b = np.array([1, 0, 0, 0])"
      ],
      "metadata": {
        "id": "pFJdfqt0lPsa"
      },
      "execution_count": 6,
      "outputs": []
    },
    {
      "cell_type": "code",
      "source": [
        "EcNormal(A, b)"
      ],
      "metadata": {
        "colab": {
          "base_uri": "https://localhost:8080/"
        },
        "id": "5zryEP_OlTms",
        "outputId": "b206e735-4469-4ea0-be6a-2bfadd97768e"
      },
      "execution_count": 7,
      "outputs": [
        {
          "output_type": "stream",
          "name": "stderr",
          "text": [
            "<ipython-input-2-1a14081ffdc9>:98: RuntimeWarning: invalid value encountered in scalar divide\n",
            "  L[i][j] = (A[i][j] - sum) / L[j][j]\n",
            "<ipython-input-2-1a14081ffdc9>:19: RuntimeWarning: invalid value encountered in scalar divide\n",
            "  x[i] = (b[i] - sum) / L[i, i]\n"
          ]
        },
        {
          "output_type": "execute_result",
          "data": {
            "text/plain": [
              "array([nan, nan, nan])"
            ]
          },
          "metadata": {},
          "execution_count": 7
        }
      ]
    },
    {
      "cell_type": "markdown",
      "source": [
        "Inclusive con $ϵ = 10^{-10}$, nos encontramos con estos problemas"
      ],
      "metadata": {
        "id": "ABIzbjhtlU0v"
      }
    },
    {
      "cell_type": "code",
      "source": [
        "epsilon = 10**(-16)\n",
        "A = np.array([[1, 1, 1], [epsilon, 0, 0], [0, epsilon, 0], [0, 0, epsilon]])\n",
        "b = np.array([1, 0, 0, 0])"
      ],
      "metadata": {
        "id": "1FsGl27Lla1h"
      },
      "execution_count": 8,
      "outputs": []
    },
    {
      "cell_type": "code",
      "source": [
        "EcNormal(A, b)"
      ],
      "metadata": {
        "colab": {
          "base_uri": "https://localhost:8080/"
        },
        "id": "HfR3CrI4lfGa",
        "outputId": "ee1f56f3-47fa-4e0d-cbe3-6a0f9ae61c63"
      },
      "execution_count": 9,
      "outputs": [
        {
          "output_type": "stream",
          "name": "stderr",
          "text": [
            "<ipython-input-2-1a14081ffdc9>:98: RuntimeWarning: invalid value encountered in scalar divide\n",
            "  L[i][j] = (A[i][j] - sum) / L[j][j]\n",
            "<ipython-input-2-1a14081ffdc9>:19: RuntimeWarning: invalid value encountered in scalar divide\n",
            "  x[i] = (b[i] - sum) / L[i, i]\n"
          ]
        },
        {
          "output_type": "execute_result",
          "data": {
            "text/plain": [
              "array([nan, nan, nan])"
            ]
          },
          "metadata": {},
          "execution_count": 9
        }
      ]
    },
    {
      "cell_type": "markdown",
      "source": [
        "¿Qué pasará para $ϵ = 0$?"
      ],
      "metadata": {
        "id": "eqr-66BVlmYn"
      }
    },
    {
      "cell_type": "code",
      "source": [
        "epsilon = 0\n",
        "A = np.array([[1, 1, 1], [epsilon, 0, 0], [0, epsilon, 0], [0, 0, epsilon]])\n",
        "b = np.array([1, 0, 0, 0])"
      ],
      "metadata": {
        "id": "Q96zsLRglq0t"
      },
      "execution_count": 10,
      "outputs": []
    },
    {
      "cell_type": "code",
      "source": [
        "EcNormal(A, b)"
      ],
      "metadata": {
        "colab": {
          "base_uri": "https://localhost:8080/",
          "height": 321
        },
        "id": "qnHZ51yulsOM",
        "outputId": "c0e69dbc-90b8-42bd-ca4b-aa7571eef524"
      },
      "execution_count": 11,
      "outputs": [
        {
          "output_type": "stream",
          "name": "stderr",
          "text": [
            "<ipython-input-2-1a14081ffdc9>:98: RuntimeWarning: invalid value encountered in scalar divide\n",
            "  L[i][j] = (A[i][j] - sum) / L[j][j]\n"
          ]
        },
        {
          "output_type": "error",
          "ename": "ValueError",
          "evalue": "cannot convert float NaN to integer",
          "traceback": [
            "\u001b[0;31m---------------------------------------------------------------------------\u001b[0m",
            "\u001b[0;31mValueError\u001b[0m                                Traceback (most recent call last)",
            "\u001b[0;32m<ipython-input-11-b355dbc7fb11>\u001b[0m in \u001b[0;36m<cell line: 1>\u001b[0;34m()\u001b[0m\n\u001b[0;32m----> 1\u001b[0;31m \u001b[0mEcNormal\u001b[0m\u001b[0;34m(\u001b[0m\u001b[0mA\u001b[0m\u001b[0;34m,\u001b[0m \u001b[0mb\u001b[0m\u001b[0;34m)\u001b[0m\u001b[0;34m\u001b[0m\u001b[0;34m\u001b[0m\u001b[0m\n\u001b[0m",
            "\u001b[0;32m<ipython-input-3-2359e3e5f9a3>\u001b[0m in \u001b[0;36mEcNormal\u001b[0;34m(A, b)\u001b[0m\n\u001b[1;32m     27\u001b[0m \u001b[0;34m\u001b[0m\u001b[0m\n\u001b[1;32m     28\u001b[0m     \u001b[0;31m# Descomposición de Cholesky de A^T * A\u001b[0m\u001b[0;34m\u001b[0m\u001b[0;34m\u001b[0m\u001b[0m\n\u001b[0;32m---> 29\u001b[0;31m     \u001b[0mL\u001b[0m \u001b[0;34m=\u001b[0m \u001b[0mCholesky\u001b[0m\u001b[0;34m(\u001b[0m\u001b[0mAtA\u001b[0m\u001b[0;34m)\u001b[0m  \u001b[0;31m# L es la matriz triangular inferior tal que A^T * A = L * L^T\u001b[0m\u001b[0;34m\u001b[0m\u001b[0;34m\u001b[0m\u001b[0m\n\u001b[0m\u001b[1;32m     30\u001b[0m     \u001b[0mLt\u001b[0m \u001b[0;34m=\u001b[0m \u001b[0mL\u001b[0m\u001b[0;34m.\u001b[0m\u001b[0mT\u001b[0m  \u001b[0;31m# La transpuesta de L, es la matriz triangular superior\u001b[0m\u001b[0;34m\u001b[0m\u001b[0;34m\u001b[0m\u001b[0m\n\u001b[1;32m     31\u001b[0m \u001b[0;34m\u001b[0m\u001b[0m\n",
            "\u001b[0;32m<ipython-input-2-1a14081ffdc9>\u001b[0m in \u001b[0;36mCholesky\u001b[0;34m(A)\u001b[0m\n\u001b[1;32m     96\u001b[0m                     \u001b[0msum\u001b[0m \u001b[0;34m+=\u001b[0m \u001b[0mL\u001b[0m\u001b[0;34m[\u001b[0m\u001b[0mi\u001b[0m\u001b[0;34m]\u001b[0m\u001b[0;34m[\u001b[0m\u001b[0mk\u001b[0m\u001b[0;34m]\u001b[0m \u001b[0;34m*\u001b[0m \u001b[0mL\u001b[0m\u001b[0;34m[\u001b[0m\u001b[0mj\u001b[0m\u001b[0;34m]\u001b[0m\u001b[0;34m[\u001b[0m\u001b[0mk\u001b[0m\u001b[0;34m]\u001b[0m\u001b[0;34m\u001b[0m\u001b[0;34m\u001b[0m\u001b[0m\n\u001b[1;32m     97\u001b[0m                 \u001b[0;31m# Usamos la fórmula para calcular los valores fuera de la diagonal\u001b[0m\u001b[0;34m\u001b[0m\u001b[0;34m\u001b[0m\u001b[0m\n\u001b[0;32m---> 98\u001b[0;31m                 \u001b[0mL\u001b[0m\u001b[0;34m[\u001b[0m\u001b[0mi\u001b[0m\u001b[0;34m]\u001b[0m\u001b[0;34m[\u001b[0m\u001b[0mj\u001b[0m\u001b[0;34m]\u001b[0m \u001b[0;34m=\u001b[0m \u001b[0;34m(\u001b[0m\u001b[0mA\u001b[0m\u001b[0;34m[\u001b[0m\u001b[0mi\u001b[0m\u001b[0;34m]\u001b[0m\u001b[0;34m[\u001b[0m\u001b[0mj\u001b[0m\u001b[0;34m]\u001b[0m \u001b[0;34m-\u001b[0m \u001b[0msum\u001b[0m\u001b[0;34m)\u001b[0m \u001b[0;34m/\u001b[0m \u001b[0mL\u001b[0m\u001b[0;34m[\u001b[0m\u001b[0mj\u001b[0m\u001b[0;34m]\u001b[0m\u001b[0;34m[\u001b[0m\u001b[0mj\u001b[0m\u001b[0;34m]\u001b[0m\u001b[0;34m\u001b[0m\u001b[0;34m\u001b[0m\u001b[0m\n\u001b[0m\u001b[1;32m     99\u001b[0m \u001b[0;34m\u001b[0m\u001b[0m\n\u001b[1;32m    100\u001b[0m     \u001b[0;32mreturn\u001b[0m \u001b[0mL\u001b[0m\u001b[0;34m\u001b[0m\u001b[0;34m\u001b[0m\u001b[0m\n",
            "\u001b[0;31mValueError\u001b[0m: cannot convert float NaN to integer"
          ]
        }
      ]
    },
    {
      "cell_type": "markdown",
      "source": [
        "Hay errores computacionales en cuando $ϵ → 0$"
      ],
      "metadata": {
        "id": "RouKm-Ipl069"
      }
    },
    {
      "cell_type": "markdown",
      "source": [
        "## Factorización QR de Grand- Schmidht.\n",
        "\n",
        "\n"
      ],
      "metadata": {
        "id": "iA4O9ofil8ED"
      }
    },
    {
      "cell_type": "code",
      "source": [
        "def QR(A):\n",
        "    \"\"\"\n",
        "    Realiza la descomposición QR de una matriz A utilizando el método de Gram-Schmidt.\n",
        "\n",
        "    Parámetros:\n",
        "    A (numpy.ndarray): Matriz de entrada de tamaño (m x n), donde m es el número de filas y n el número de columnas.\n",
        "\n",
        "    Retorna:\n",
        "    Q (numpy.ndarray): Matriz ortogonal de tamaño (m x n), tal que Q^T * Q = I.\n",
        "    R (numpy.ndarray): Matriz triangular superior de tamaño (n x n).\n",
        "\n",
        "    El resultado satisface la relación A = Q * R, donde:\n",
        "    - Q es una matriz ortogonal (Q^T * Q = I).\n",
        "    - R es una matriz triangular superior.\n",
        "    \"\"\"\n",
        "\n",
        "    # Inicialización de las matrices Q y R\n",
        "    Q = np.empty_like(A)  # Matriz de salida Q, tendrá las mismas dimensiones que A\n",
        "    R = np.zeros([A.shape[1], A.shape[1]])  # Matriz cuadrada R de tamaño n x n\n",
        "    vi = np.zeros([A.shape[1]])  # Vector auxiliar vi\n",
        "\n",
        "    # Iteración sobre las columnas de A\n",
        "    for i in range(A.shape[1]):\n",
        "        # Comienza con el vector de la columna i de A\n",
        "        vi = A[:, i]\n",
        "\n",
        "        # Proceso de ortogonalización de Gram-Schmidt\n",
        "        for j in range(i):\n",
        "            # Calculamos la proyección de vi sobre los vectores Q anteriores\n",
        "            R[j, i] = np.dot(Q[:, j].T, vi)  # Proyección de vi sobre Q[:, j]\n",
        "            # Restamos la proyección de vi para mantener la ortogonalidad\n",
        "            vi = vi - R[j, i] * Q[:, j]\n",
        "\n",
        "        # Normalizamos el vector vi para obtener un vector unitario\n",
        "        R[i, i] = np.linalg.norm(vi, 2)  # Norma de vi, la longitud del vector\n",
        "        Q[:, i] = vi / R[i, i]  # Normalizamos para obtener el i-ésimo vector ortonormal de Q\n",
        "\n",
        "    # Retorna las matrices Q y R\n",
        "    return Q, R"
      ],
      "metadata": {
        "id": "oHY2u2qGmHg6"
      },
      "execution_count": 12,
      "outputs": []
    },
    {
      "cell_type": "code",
      "source": [
        "def SolQR(A, b):\n",
        "    \"\"\"\n",
        "    Resuelve el sistema de ecuaciones lineales A * x = b utilizando la factorización QR de A.\n",
        "\n",
        "    Parámetros:\n",
        "    A (numpy.ndarray): Matriz de coeficientes del sistema de ecuaciones lineales de tamaño (m x n),\n",
        "                        donde m es el número de ecuaciones y n el número de incógnitas.\n",
        "    b (numpy.ndarray): Vector de términos independientes del sistema de tamaño (m,).\n",
        "\n",
        "    Retorna:\n",
        "    x (numpy.ndarray): Solución del sistema de ecuaciones de tamaño (n,), tal que A * x = b.\n",
        "\n",
        "\n",
        "    Después de realizar la descomposición QR, se resuelve el sistema Rx = Q^T * b. Este sistema triangular superior se resuelve usando\n",
        "    la sustitución hacia atrás. La solución se obtiene en dos pasos:\n",
        "\n",
        "    1. Calcular Q^T * b (esto se almacena en el vector bR).\n",
        "    2. Resolver el sistema triangular superior Rx = bR usando la sustitución hacia atrás.\n",
        "\n",
        "    \"\"\"\n",
        "\n",
        "    # Paso 1: Obtener la factorización QR de A\n",
        "    Q, R = QR(A)\n",
        "\n",
        "    # Paso 2: Calcular el vector bR = Q^T * b\n",
        "    bR = Q.T @ b\n",
        "\n",
        "    # Paso 3: Resolver el sistema triangular superior Rx = bR usando sustitución hacia atrás\n",
        "    x = SustAtras(R, bR)\n",
        "\n",
        "    return x\n"
      ],
      "metadata": {
        "id": "d_-i-b06meN4"
      },
      "execution_count": 14,
      "outputs": []
    },
    {
      "cell_type": "markdown",
      "source": [
        "Nuevamente, para $ϵ = 10^{-10}$"
      ],
      "metadata": {
        "id": "uUk9DgWjmqFS"
      }
    },
    {
      "cell_type": "code",
      "source": [
        "epsilon = 10**(-10)\n",
        "A = np.array([[1, 1, 1], [epsilon, 0, 0], [0, epsilon, 0], [0, 0, epsilon]])\n",
        "b = np.array([1, 0, 0, 0])"
      ],
      "metadata": {
        "id": "NeKMgoX2mpPL"
      },
      "execution_count": 18,
      "outputs": []
    },
    {
      "cell_type": "code",
      "source": [
        "SolQR(A, b)"
      ],
      "metadata": {
        "colab": {
          "base_uri": "https://localhost:8080/"
        },
        "id": "to62V8oXm46n",
        "outputId": "db32c8d9-19e6-4719-b71c-32f53ae314ea"
      },
      "execution_count": 19,
      "outputs": [
        {
          "output_type": "execute_result",
          "data": {
            "text/plain": [
              "array([1., 0., 0.])"
            ]
          },
          "metadata": {},
          "execution_count": 19
        }
      ]
    },
    {
      "cell_type": "markdown",
      "source": [
        "Nos indica que el vector $(1, 0, 0)$, es la solución al sistema"
      ],
      "metadata": {
        "id": "u4Y4uc1Wm_bo"
      }
    },
    {
      "cell_type": "markdown",
      "source": [
        "¿Qué pasa para $epsilon = 0?\n"
      ],
      "metadata": {
        "id": "283Ez767nFW-"
      }
    },
    {
      "cell_type": "code",
      "source": [
        "epsilon = 0\n",
        "A = np.array([[1, 1, 1], [epsilon, 0, 0], [0, epsilon, 0], [0, 0, epsilon]])\n",
        "b = np.array([1, 0, 0, 0])"
      ],
      "metadata": {
        "id": "nY-BzZAfnKV7"
      },
      "execution_count": 23,
      "outputs": []
    },
    {
      "cell_type": "code",
      "source": [
        "SolQR(A, b)"
      ],
      "metadata": {
        "colab": {
          "base_uri": "https://localhost:8080/",
          "height": 391
        },
        "id": "4XBiHl2AnL-w",
        "outputId": "2e349f88-5062-41c5-eed9-5635a8459437"
      },
      "execution_count": 24,
      "outputs": [
        {
          "output_type": "stream",
          "name": "stderr",
          "text": [
            "<ipython-input-12-c665a8c1924b>:36: RuntimeWarning: invalid value encountered in divide\n",
            "  Q[:, i] = vi / R[i, i]  # Normalizamos para obtener el i-ésimo vector ortonormal de Q\n",
            "<ipython-input-12-c665a8c1924b>:36: RuntimeWarning: invalid value encountered in cast\n",
            "  Q[:, i] = vi / R[i, i]  # Normalizamos para obtener el i-ésimo vector ortonormal de Q\n",
            "<ipython-input-2-1a14081ffdc9>:36: RuntimeWarning: divide by zero encountered in scalar divide\n",
            "  x[n-1] = y[n-1] / U[n-1, n-1]  # Resuelve el último valor de x\n"
          ]
        },
        {
          "output_type": "error",
          "ename": "OverflowError",
          "evalue": "cannot convert float infinity to integer",
          "traceback": [
            "\u001b[0;31m---------------------------------------------------------------------------\u001b[0m",
            "\u001b[0;31mOverflowError\u001b[0m                             Traceback (most recent call last)",
            "\u001b[0;32m<ipython-input-24-bc3cc947d4d5>\u001b[0m in \u001b[0;36m<cell line: 1>\u001b[0;34m()\u001b[0m\n\u001b[0;32m----> 1\u001b[0;31m \u001b[0mSolQR\u001b[0m\u001b[0;34m(\u001b[0m\u001b[0mA\u001b[0m\u001b[0;34m,\u001b[0m \u001b[0mb\u001b[0m\u001b[0;34m)\u001b[0m\u001b[0;34m\u001b[0m\u001b[0;34m\u001b[0m\u001b[0m\n\u001b[0m",
            "\u001b[0;32m<ipython-input-14-ce0db18f9a8e>\u001b[0m in \u001b[0;36mSolQR\u001b[0;34m(A, b)\u001b[0m\n\u001b[1;32m     27\u001b[0m \u001b[0;34m\u001b[0m\u001b[0m\n\u001b[1;32m     28\u001b[0m     \u001b[0;31m# Paso 3: Resolver el sistema triangular superior Rx = bR usando sustitución hacia atrás\u001b[0m\u001b[0;34m\u001b[0m\u001b[0;34m\u001b[0m\u001b[0m\n\u001b[0;32m---> 29\u001b[0;31m     \u001b[0mx\u001b[0m \u001b[0;34m=\u001b[0m \u001b[0mSustAtras\u001b[0m\u001b[0;34m(\u001b[0m\u001b[0mR\u001b[0m\u001b[0;34m,\u001b[0m \u001b[0mbR\u001b[0m\u001b[0;34m)\u001b[0m\u001b[0;34m\u001b[0m\u001b[0;34m\u001b[0m\u001b[0m\n\u001b[0m\u001b[1;32m     30\u001b[0m \u001b[0;34m\u001b[0m\u001b[0m\n\u001b[1;32m     31\u001b[0m     \u001b[0;32mreturn\u001b[0m \u001b[0mx\u001b[0m\u001b[0;34m\u001b[0m\u001b[0;34m\u001b[0m\u001b[0m\n",
            "\u001b[0;32m<ipython-input-2-1a14081ffdc9>\u001b[0m in \u001b[0;36mSustAtras\u001b[0;34m(U, y)\u001b[0m\n\u001b[1;32m     34\u001b[0m     \u001b[0mx\u001b[0m \u001b[0;34m=\u001b[0m \u001b[0mnp\u001b[0m\u001b[0;34m.\u001b[0m\u001b[0mzeros_like\u001b[0m\u001b[0;34m(\u001b[0m\u001b[0my\u001b[0m\u001b[0;34m)\u001b[0m  \u001b[0;31m# Crea un vector x de ceros del mismo tamaño que y\u001b[0m\u001b[0;34m\u001b[0m\u001b[0;34m\u001b[0m\u001b[0m\n\u001b[1;32m     35\u001b[0m     \u001b[0mn\u001b[0m \u001b[0;34m=\u001b[0m \u001b[0mU\u001b[0m\u001b[0;34m.\u001b[0m\u001b[0mshape\u001b[0m\u001b[0;34m[\u001b[0m\u001b[0;36m0\u001b[0m\u001b[0;34m]\u001b[0m  \u001b[0;31m# Obtiene el número de renglones de U\u001b[0m\u001b[0;34m\u001b[0m\u001b[0;34m\u001b[0m\u001b[0m\n\u001b[0;32m---> 36\u001b[0;31m     \u001b[0mx\u001b[0m\u001b[0;34m[\u001b[0m\u001b[0mn\u001b[0m\u001b[0;34m-\u001b[0m\u001b[0;36m1\u001b[0m\u001b[0;34m]\u001b[0m \u001b[0;34m=\u001b[0m \u001b[0my\u001b[0m\u001b[0;34m[\u001b[0m\u001b[0mn\u001b[0m\u001b[0;34m-\u001b[0m\u001b[0;36m1\u001b[0m\u001b[0;34m]\u001b[0m \u001b[0;34m/\u001b[0m \u001b[0mU\u001b[0m\u001b[0;34m[\u001b[0m\u001b[0mn\u001b[0m\u001b[0;34m-\u001b[0m\u001b[0;36m1\u001b[0m\u001b[0;34m,\u001b[0m \u001b[0mn\u001b[0m\u001b[0;34m-\u001b[0m\u001b[0;36m1\u001b[0m\u001b[0;34m]\u001b[0m  \u001b[0;31m# Resuelve el último valor de x\u001b[0m\u001b[0;34m\u001b[0m\u001b[0;34m\u001b[0m\u001b[0m\n\u001b[0m\u001b[1;32m     37\u001b[0m     \u001b[0;32mfor\u001b[0m \u001b[0mi\u001b[0m \u001b[0;32min\u001b[0m \u001b[0mrange\u001b[0m\u001b[0;34m(\u001b[0m\u001b[0mn\u001b[0m\u001b[0;34m-\u001b[0m\u001b[0;36m2\u001b[0m\u001b[0;34m,\u001b[0m \u001b[0;34m-\u001b[0m\u001b[0;36m1\u001b[0m\u001b[0;34m,\u001b[0m \u001b[0;34m-\u001b[0m\u001b[0;36m1\u001b[0m\u001b[0;34m)\u001b[0m\u001b[0;34m:\u001b[0m  \u001b[0;31m# Recorre las filas desde la penúltima hasta la primera\u001b[0m\u001b[0;34m\u001b[0m\u001b[0;34m\u001b[0m\u001b[0m\n\u001b[1;32m     38\u001b[0m         \u001b[0msum\u001b[0m \u001b[0;34m=\u001b[0m \u001b[0;36m0.0\u001b[0m\u001b[0;34m\u001b[0m\u001b[0;34m\u001b[0m\u001b[0m\n",
            "\u001b[0;31mOverflowError\u001b[0m: cannot convert float infinity to integer"
          ]
        }
      ]
    },
    {
      "cell_type": "markdown",
      "source": [
        "Aquí también nos encontramos con problemas en cuanto $ϵ → 0$"
      ],
      "metadata": {
        "id": "aTAuk2_knS99"
      }
    },
    {
      "cell_type": "markdown",
      "source": [
        "##Factorización QR de HouseHolder"
      ],
      "metadata": {
        "id": "hmlt8KAHnb8q"
      }
    },
    {
      "cell_type": "code",
      "source": [
        "import numpy.linalg as LA\n",
        "\n",
        "def Householder(A):\n",
        "    \"\"\"\n",
        "    Realiza la descomposición QR de una matriz A utilizando el método de Householder.\n",
        "\n",
        "    Parámetros:\n",
        "    A (numpy.ndarray): Matriz de entrada de tamaño (m, n) que se desea descomponer.\n",
        "                        La matriz A debe tener dimensiones m x n.\n",
        "\n",
        "    Retorna:\n",
        "    tuple: Una tupla (Q, R) donde:\n",
        "        - Q (numpy.ndarray): Matriz ortogonal (m x m) tal que Q^T * Q = I.\n",
        "        - R (numpy.ndarray): Matriz triangular superior (m x n) que contiene los coeficientes de la factorización QR.\n",
        "\n",
        "    Descripción:\n",
        "    El método de Householder se utiliza para descomponer una matriz A de tamaño m x n en una matriz ortogonal Q y una matriz triangular superior R tal que:\n",
        "\n",
        "    A = Q * R\n",
        "\n",
        "    El algoritmo se basa en la idea de aplicar reflexiones (matrices de Householder) para convertir las columnas de A en un sistema de vectores ortogonales.\n",
        "\n",
        "    Procedimiento:\n",
        "    1. Se iteran las columnas de la matriz A.\n",
        "    2. Para cada columna, se genera un vector de Householder que \"refleja\" la columna actual hacia una dirección específica.\n",
        "    3. Se actualizan las matrices \\( Q \\) y \\( A \\) en cada paso.\n",
        "    4. La matriz \\( Q \\) se obtiene como el producto de las matrices de Householder acumuladas, mientras que la matriz \\( A \\) se va transformando en la matriz triangular superior \\( R \\).\n",
        "\n",
        "    La función devuelve las matrices Q (ortogonal) y R (triangular superior) que cumplen la relación A = Q * R.\n",
        "\n",
        "    Notas:\n",
        "    - El vector xi es la copia de la columna de A a partir del elemento i-ésimo.\n",
        "    - El vector ui es el vector de Householder, que es el eje de la reflexión.\n",
        "    - El vector vi es normalizado para asegurar que la reflexión sea correcta.\n",
        "    - Se actualiza la matriz \\( A \\) y la matriz acumulativa \\( Q \\) en cada iteración.\n",
        "    \"\"\"\n",
        "\n",
        "    # Inicialización: Q es la matriz identidad y se va acumulando\n",
        "    Q = np.eye(len(A))\n",
        "\n",
        "    # Número de columnas de A\n",
        "    n = A.shape[1]\n",
        "\n",
        "    # Iterar sobre cada columna\n",
        "    for i in range(n):\n",
        "        # Inicializar xi, un vector con ceros\n",
        "        xi = np.zeros(len(A))\n",
        "\n",
        "        # Tomar el subvector de la columna de A a partir del i-ésimo índice\n",
        "        xi[i:] = A[:, i][i:]\n",
        "\n",
        "        # Calcular la norma de xi\n",
        "        norm_x = LA.norm(xi)\n",
        "\n",
        "        # Crear un vector unitario ei\n",
        "        ei = np.zeros(len(A))\n",
        "        ei[i] = 1.0\n",
        "\n",
        "        # Generar el vector ui de Householder\n",
        "        ui = xi + np.sign(A[i, i]) * norm_x * ei\n",
        "\n",
        "        # Normalizar el vector ui para obtener vi\n",
        "        vi = ui / LA.norm(ui)\n",
        "\n",
        "        # Reshape de vi a un vector columna\n",
        "        vi = vi.reshape(-1, 1)\n",
        "\n",
        "        # Crear la matriz de Householder H\n",
        "        H = np.eye(len(A)) - 2 * vi @ vi.T\n",
        "\n",
        "        # Actualizar la matriz A\n",
        "        A = H @ A\n",
        "\n",
        "        # Actualizar la matriz Q\n",
        "        Q = Q @ H\n",
        "\n",
        "    return Q, A\n"
      ],
      "metadata": {
        "id": "RPUlSqJonjYe"
      },
      "execution_count": 25,
      "outputs": []
    },
    {
      "cell_type": "code",
      "source": [
        "def SustAtras(U, y):\n",
        "    x = np.zeros_like(y)\n",
        "    n = U.shape[0]  # cantidad de renglones de U\n",
        "    x[n-1] = y[n-1] / U[n-1, n-1]\n",
        "    for i in range(n-2, -1, -1):\n",
        "        sum = 0.0\n",
        "        for j in range(i+1, n):\n",
        "            sum += U[i, j] * x[j]\n",
        "        x[i] = (y[i] - sum) / U[i, i]\n",
        "\n",
        "    return x"
      ],
      "metadata": {
        "id": "RDJ3AZLkqRUZ"
      },
      "execution_count": 38,
      "outputs": []
    },
    {
      "cell_type": "code",
      "source": [
        "def SolQRH(A, b):\n",
        "    \"\"\"\n",
        "    Resuelve el sistema de ecuaciones lineales A * x = b utilizando la factorización QR de A.\n",
        "\n",
        "    Parámetros:\n",
        "    A (numpy.ndarray): Matriz de coeficientes del sistema de ecuaciones lineales de tamaño (m x n),\n",
        "                        donde m es el número de ecuaciones y n el número de incógnitas.\n",
        "    b (numpy.ndarray): Vector de términos independientes del sistema de tamaño (m,).\n",
        "\n",
        "    Retorna:\n",
        "    x (numpy.ndarray): Solución del sistema de ecuaciones de tamaño (n,), tal que A * x = b.\n",
        "\n",
        "\n",
        "    Después de realizar la descomposición QR, se resuelve el sistema Rx = Q^T * b. Este sistema triangular superior se resuelve usando\n",
        "    la sustitución hacia atrás. La solución se obtiene en dos pasos:\n",
        "\n",
        "    1. Calcular Q^T * b (esto se almacena en el vector bR).\n",
        "    2. Resolver el sistema triangular superior Rx = bR usando la sustitución hacia atrás.\n",
        "\n",
        "    \"\"\"\n",
        "\n",
        "    # Paso 1: Obtener la factorización QR de A\n",
        "    Q, R = Householder(A)\n",
        "    R = R[:-1, :]\n",
        "    # Paso 2: Calcular el vector bR = Q^T * b\n",
        "    bR = Q.T @ b\n",
        "    bR = bR[:-1]\n",
        "    # Paso 3: Resolver el sistema triangular superior Rx = bR usando sustitución hacia atrás\n",
        "    x = SustAtras(R, bR)\n",
        "\n",
        "    return x\n"
      ],
      "metadata": {
        "id": "qnkLWVdzoRPE"
      },
      "execution_count": 52,
      "outputs": []
    },
    {
      "cell_type": "markdown",
      "source": [
        "Para $ϵ = 10^{-10}$, tenemos:"
      ],
      "metadata": {
        "id": "ZUxfAYqVofUR"
      }
    },
    {
      "cell_type": "code",
      "source": [
        "epsilon = 10**(-10)\n",
        "A = np.array([[1, 1, 1], [epsilon, 0, 0], [0, epsilon, 0], [0, 0, epsilon]])\n",
        "b = np.array([1, 0, 0, 0])"
      ],
      "metadata": {
        "id": "unUwdsA2olKo"
      },
      "execution_count": 53,
      "outputs": []
    },
    {
      "cell_type": "code",
      "source": [
        "SolQRH(A, b)"
      ],
      "metadata": {
        "colab": {
          "base_uri": "https://localhost:8080/"
        },
        "id": "aLOX_jL5rSYf",
        "outputId": "9da45647-20c1-48b0-c4ae-41fa43dde9fb"
      },
      "execution_count": 54,
      "outputs": [
        {
          "output_type": "execute_result",
          "data": {
            "text/plain": [
              "array([0.33333333, 0.33333333, 0.33333333])"
            ]
          },
          "metadata": {},
          "execution_count": 54
        }
      ]
    },
    {
      "cell_type": "markdown",
      "source": [
        "En este caso, tenemos que la solución es $(\\dfrac{1}{3}, \\dfrac{1}{3}, \\dfrac{1}{3})$"
      ],
      "metadata": {
        "id": "1kF3m1HGsUnx"
      }
    },
    {
      "cell_type": "markdown",
      "source": [
        "Veamos qué pasa cuando $ϵ = 10^{-16}$"
      ],
      "metadata": {
        "id": "mkIbRMewpTlX"
      }
    },
    {
      "cell_type": "code",
      "source": [
        "epsilon = 10**(-16)\n",
        "A = np.array([[1, 1, 1], [epsilon, 0, 0], [0, epsilon, 0], [0, 0, epsilon]])\n",
        "b = np.array([1, 0, 0, 0])"
      ],
      "metadata": {
        "id": "P1CSSXxnpaEF"
      },
      "execution_count": 55,
      "outputs": []
    },
    {
      "cell_type": "code",
      "source": [
        "SolQRH(A, b)"
      ],
      "metadata": {
        "colab": {
          "base_uri": "https://localhost:8080/"
        },
        "id": "eI6wyx6Opc-n",
        "outputId": "6c790b26-09e9-4157-9ac7-7a88ec15b1e1"
      },
      "execution_count": 56,
      "outputs": [
        {
          "output_type": "execute_result",
          "data": {
            "text/plain": [
              "array([0.33333333, 0.33333333, 0.33333333])"
            ]
          },
          "metadata": {},
          "execution_count": 56
        }
      ]
    },
    {
      "cell_type": "markdown",
      "source": [
        "De la misma forma, tenemos problemas al tratar de encontrar la solución, ¿qué pasa entonces cuando queremos $ϵ >> 0$?"
      ],
      "metadata": {
        "id": "bNXfZxYJp0g7"
      }
    },
    {
      "cell_type": "code",
      "source": [
        "epsilon = 4\n",
        "A = np.array([[1, 1, 1], [epsilon, 0, 0], [0, epsilon, 0], [0, 0, epsilon]])\n",
        "b = np.array([1, 0, 0, 0])"
      ],
      "metadata": {
        "id": "hLI9SmQUp2El"
      },
      "execution_count": 57,
      "outputs": []
    },
    {
      "cell_type": "code",
      "source": [
        "SolQRH(A, b)"
      ],
      "metadata": {
        "colab": {
          "base_uri": "https://localhost:8080/"
        },
        "id": "fUCnSD_dp1wy",
        "outputId": "40ebba19-0598-46f1-93fc-ad1d1d9b9d01"
      },
      "execution_count": 58,
      "outputs": [
        {
          "output_type": "execute_result",
          "data": {
            "text/plain": [
              "array([0.05263158, 0.05263158, 0.05263158])"
            ]
          },
          "metadata": {},
          "execution_count": 58
        }
      ]
    },
    {
      "cell_type": "markdown",
      "source": [
        "¿Y cuándo $ϵ = 0$?"
      ],
      "metadata": {
        "id": "vzVbcyUMsjQE"
      }
    },
    {
      "cell_type": "code",
      "source": [
        "epsilon = 0\n",
        "A = np.array([[1, 1, 1], [epsilon, 0, 0], [0, epsilon, 0], [0, 0, epsilon]])\n",
        "b = np.array([1, 0, 0, 0])"
      ],
      "metadata": {
        "id": "muuC7Q5fsiSL"
      },
      "execution_count": 61,
      "outputs": []
    },
    {
      "cell_type": "code",
      "source": [
        "SolQRH(A, b)"
      ],
      "metadata": {
        "colab": {
          "base_uri": "https://localhost:8080/"
        },
        "id": "zxGKW3OVsqgN",
        "outputId": "f495bbad-8eef-4b6a-98c6-12793530a108"
      },
      "execution_count": 62,
      "outputs": [
        {
          "output_type": "stream",
          "name": "stderr",
          "text": [
            "<ipython-input-25-115fc343b9bd>:63: RuntimeWarning: invalid value encountered in divide\n",
            "  vi = ui / LA.norm(ui)\n"
          ]
        },
        {
          "output_type": "execute_result",
          "data": {
            "text/plain": [
              "array([nan, nan, nan])"
            ]
          },
          "metadata": {},
          "execution_count": 62
        }
      ]
    },
    {
      "cell_type": "markdown",
      "source": [
        "Tenemos problemas cuando $\\epsilon = 0$"
      ],
      "metadata": {
        "id": "7x_I-OkBsviz"
      }
    },
    {
      "cell_type": "markdown",
      "source": [
        "##  Factorización QR de Givens"
      ],
      "metadata": {
        "id": "ezX17DhKs3-B"
      }
    },
    {
      "cell_type": "code",
      "source": [],
      "metadata": {
        "id": "t8Yv921AtABP"
      },
      "execution_count": null,
      "outputs": []
    }
  ]
}