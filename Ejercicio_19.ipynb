{
  "nbformat": 4,
  "nbformat_minor": 0,
  "metadata": {
    "colab": {
      "provenance": []
    },
    "kernelspec": {
      "name": "python3",
      "display_name": "Python 3"
    },
    "language_info": {
      "name": "python"
    }
  },
  "cells": [
    {
      "cell_type": "markdown",
      "source": [
        "# Práctica 3: Ajuste por Mínimos Cuadrados y Factorización QR\n",
        "**Problemas Computacionales**\\\n",
        "Alumno: Martínez de la Cruz José Jorge\\\n",
        "Profesor: César Carreón Otañez\\\n",
        "Ayudante:  Jesús Iván Coss Calderón"
      ],
      "metadata": {
        "id": "-2--bA9eLVvf"
      }
    },
    {
      "cell_type": "markdown",
      "source": [
        "19. a) Resolver el siguiente problema de mínimos cuadrados usando cualquier método de los vistos en clase.\n",
        "$$\n",
        "\\begin{pmatrix} 0.16 & 0.10 \\\\ 0.17 & 0.11 \\\\ 2.02 & 1.29 \\end{pmatrix}\n",
        "\\begin{pmatrix} x_1 \\\\ x_2 \\end{pmatrix} ≈ \\begin{pmatrix} 0.26 \\\\ 0.28 \\\\ 3.31 \\end{pmatrix}\n",
        "$$\n"
      ],
      "metadata": {
        "id": "D_BPzhWsLUaL"
      }
    },
    {
      "cell_type": "code",
      "source": [
        "import numpy as np"
      ],
      "metadata": {
        "id": "dHBNwjj5MAIb"
      },
      "execution_count": 57,
      "outputs": []
    },
    {
      "cell_type": "code",
      "source": [
        "A = np.array([[0.16, 0.10],\n",
        "                   [0.17, 0.11],\n",
        "                   [2.02, 1.29]])\n",
        "b = np.array([0.26, 0.28, 3.31 ])"
      ],
      "metadata": {
        "id": "HqR5Nx0LMBex"
      },
      "execution_count": 55,
      "outputs": []
    },
    {
      "cell_type": "markdown",
      "source": [
        "Lo haremos con ecuaciones normales, para ello primero carguemos el programa de Cholesky."
      ],
      "metadata": {
        "id": "7quQx_xROOfa"
      }
    },
    {
      "cell_type": "code",
      "source": [
        "def SustDelante(L, b):\n",
        "    \"\"\"\n",
        "    Resuelve un sistema de ecuaciones L * x = b, donde L es una matriz triangular inferior.\n",
        "\n",
        "    Parámetros:\n",
        "    L (numpy.ndarray): Matriz triangular inferior.\n",
        "    b (numpy.ndarray): Vector columna de tamaño n, lado derecho del sistema.\n",
        "\n",
        "    Retorna:\n",
        "    x (numpy.ndarray): Vector solución del sistema L * x = b.\n",
        "    \"\"\"\n",
        "    x = np.zeros_like(b)  # Crea un vector x de ceros del mismo tamaño que b\n",
        "    n = L.shape[0]  # Obtiene el número de renglones de L\n",
        "    for i in range(n):  # Recorre las filas de L\n",
        "        sum = 0.0\n",
        "        for j in range(i):  # Suma los productos de la parte ya resuelta de x\n",
        "            sum += L[i, j] * x[j]\n",
        "        # Resuelve para x[i]\n",
        "        x[i] = (b[i] - sum) / L[i, i]\n",
        "\n",
        "    return x  # Devuelve la solución\n"
      ],
      "metadata": {
        "id": "Dqa4ipDFP5N2"
      },
      "execution_count": 65,
      "outputs": []
    },
    {
      "cell_type": "code",
      "source": [
        "def SustAtras(U, y):\n",
        "    \"\"\"\n",
        "    Resuelve un sistema de ecuaciones U * x = y, donde U es una matriz triangular superior.\n",
        "\n",
        "    Parámetros:\n",
        "    U (numpy.ndarray): Matriz triangular superior.\n",
        "    y (numpy.ndarray): Vector columna de tamaño n, lado derecho del sistema.\n",
        "\n",
        "    Retorna:\n",
        "    x (numpy.ndarray): Vector solución del sistema U * x = y.\n",
        "    \"\"\"\n",
        "    x = np.zeros_like(y)  # Crea un vector x de ceros del mismo tamaño que y\n",
        "    n = U.shape[0]  # Obtiene el número de renglones de U\n",
        "    x[n-1] = y[n-1] / U[n-1, n-1]  # Resuelve el último valor de x\n",
        "    for i in range(n-2, -1, -1):  # Recorre las filas desde la penúltima hasta la primera\n",
        "        sum = 0.0\n",
        "        for j in range(i+1, n):  # Suma los productos de los valores ya resueltos de x\n",
        "            sum += U[i, j] * x[j]\n",
        "        # Resuelve para x[i]\n",
        "        x[i] = (y[i] - sum) / U[i, i]\n",
        "\n",
        "    return x  # Devuelve la solución\n"
      ],
      "metadata": {
        "id": "cV8MZHEBQNbG"
      },
      "execution_count": 66,
      "outputs": []
    },
    {
      "cell_type": "code",
      "source": [
        "import numpy as np\n",
        "\n",
        "def Cholesky(A):\n",
        "    \"\"\"\n",
        "    Realiza la descomposición de Cholesky de una matriz simétrica y definida positiva.\n",
        "\n",
        "    La descomposición de Cholesky de una matriz A se expresa como:\n",
        "    A = L * L^T\n",
        "    donde:\n",
        "        - A es la matriz de entrada (simétrica y definida positiva).\n",
        "        - L es una matriz triangular inferior (con ceros sobre la diagonal).\n",
        "\n",
        "    Parámetros:\n",
        "    A (numpy.ndarray): Matriz cuadrada simétrica y definida positiva de tamaño n x n.\n",
        "\n",
        "    Retorna:\n",
        "    L (numpy.ndarray): Matriz triangular inferior de tamaño n x n tal que A = L * L^T.\n",
        "\n",
        "    Excepciones:\n",
        "    Si la matriz A no es simétrica o definida positiva, este algoritmo puede fallar\n",
        "    o devolver resultados incorrectos.\n",
        "\n",
        "    El algoritmo sigue el siguiente procedimiento:\n",
        "    1. Inicializa una matriz L de ceros de las mismas dimensiones que A.\n",
        "    2. Calcula los elementos de la matriz triangular inferior L usando la fórmula de Cholesky.\n",
        "    3. La diagonal de L es calculada con la raíz cuadrada de los elementos de A.\n",
        "    4. Los elementos fuera de la diagonal se calculan usando las sumas de productos previamente computadas.\n",
        "\n",
        "    \"\"\"\n",
        "    # Determina el tamaño de la matriz A\n",
        "    n = len(A)\n",
        "\n",
        "    # Crea una matriz L de ceros del mismo tamaño que A\n",
        "    L = np.zeros_like(A)\n",
        "\n",
        "    # Recorre las filas y columnas de A para calcular los elementos de L\n",
        "    for i in range(n):\n",
        "        for j in range(i + 1):\n",
        "            # Si estamos en la diagonal principal\n",
        "            if i == j:\n",
        "                # Calculamos la suma de los cuadrados de los elementos previos de la fila\n",
        "                sum = 0.0\n",
        "                for k in range(j):\n",
        "                    sum += L[j][k] * L[j][k]\n",
        "                # La raíz cuadrada del valor en A[j][j] menos la suma anterior da el valor de L[j][j]\n",
        "                L[j][j] = np.sqrt(A[j][j] - sum)\n",
        "            else:\n",
        "                # Si estamos en la parte inferior de la matriz (por debajo de la diagonal)\n",
        "                sum = 0.0\n",
        "                for k in range(j):\n",
        "                    sum += L[i][k] * L[j][k]\n",
        "                # Usamos la fórmula para calcular los valores fuera de la diagonal\n",
        "                L[i][j] = (A[i][j] - sum) / L[j][j]\n",
        "\n",
        "    return L"
      ],
      "metadata": {
        "id": "cXWSjMV9MEJc"
      },
      "execution_count": 67,
      "outputs": []
    },
    {
      "cell_type": "markdown",
      "source": [
        "Ahora sí, definimos el programa que resolverá mediante ecuaciones cuadradas"
      ],
      "metadata": {
        "id": "6M2VsY6WPAmp"
      }
    },
    {
      "cell_type": "code",
      "source": [
        "def EcNormal(A, b):\n",
        "    \"\"\"\n",
        "    Resuelve el sistema de ecuaciones lineales A * x = b utilizando el método de los mínimos cuadrados\n",
        "    con la descomposición de Cholesky de la matriz A^T * A.\n",
        "\n",
        "    Este método se utiliza cuando el sistema no tiene solución exacta o es sobredeterminado (más ecuaciones que incógnitas).\n",
        "    En lugar de resolver el sistema directamente, se resuelve el sistema equivalente A^T * A * x = A^T * b,\n",
        "    que tiene solución en el sentido de los mínimos cuadrados.\n",
        "\n",
        "    Parámetros:\n",
        "    A (numpy.ndarray): Matriz de coeficientes del sistema de ecuaciones de tamaño m x n (m >= n).\n",
        "    b (numpy.ndarray): Vector columna de tamaño m, que es el lado derecho del sistema de ecuaciones.\n",
        "\n",
        "    Retorna:\n",
        "    xSol (numpy.ndarray): El vector solución x, que es la solución de mínimos cuadrados al sistema A * x = b.\n",
        "\n",
        "    Procedimiento:\n",
        "    1. Calculamos el sistema equivalente A^T * A * x = A^T * b.\n",
        "    2. Aplicamos la descomposición de Cholesky a la matriz A^T * A para obtener una matriz triangular inferior L.\n",
        "    3. Resolvemos el sistema triangular inferior L * y = A^T * b mediante sustitución hacia adelante (SustDelante).\n",
        "    4. Resolvemos el sistema triangular superior L^T * x = y mediante sustitución hacia atrás (SustAtras).\n",
        "    \"\"\"\n",
        "\n",
        "    # Calculamos el sistema equivalente A^T * A * x = A^T * b\n",
        "    AtA = A.T @ A  # Matriz generalizada (A^T * A)\n",
        "    Atb = A.T @ b  # Vector del sistema equivalente (A^T * b)\n",
        "\n",
        "    # Descomposición de Cholesky de A^T * A\n",
        "    L = Cholesky(AtA)  # L es la matriz triangular inferior tal que A^T * A = L * L^T\n",
        "    Lt = L.T  # La transpuesta de L, es la matriz triangular superior\n",
        "\n",
        "    # Resolvemos el sistema L * y = A^T * b mediante sustitución hacia adelante\n",
        "    ySol = SustDelante(L, Atb)\n",
        "\n",
        "    # Resolvemos el sistema L^T * x = ySol mediante sustitución hacia atrás\n",
        "    xSol = SustAtras(Lt, ySol)\n",
        "\n",
        "    return xSol\n"
      ],
      "metadata": {
        "id": "1kL2SzcyPHH8"
      },
      "execution_count": 68,
      "outputs": []
    },
    {
      "cell_type": "markdown",
      "source": [
        "Implementamos el código"
      ],
      "metadata": {
        "id": "Yt6bSHYlPae1"
      }
    },
    {
      "cell_type": "code",
      "source": [
        "EcNormal(A, b)"
      ],
      "metadata": {
        "colab": {
          "base_uri": "https://localhost:8080/"
        },
        "id": "TBffe-L0PZ8v",
        "outputId": "675c19fd-3d96-43d5-d92a-d54225efc3a4"
      },
      "execution_count": 69,
      "outputs": [
        {
          "output_type": "execute_result",
          "data": {
            "text/plain": [
              "array([1., 1.])"
            ]
          },
          "metadata": {},
          "execution_count": 69
        }
      ]
    },
    {
      "cell_type": "markdown",
      "source": [
        "Con lo que tenemos que la solución al sistema es el vector $(1, 1)$"
      ],
      "metadata": {
        "id": "c8PKIpYfQYpa"
      }
    },
    {
      "cell_type": "markdown",
      "source": [
        "b) Resolver el mismo problema con la siguiente perturbación en el vector $b$\n",
        "$$b=\n",
        "\\begin{pmatrix} 0.27 \\\\ 0.25 \\\\ 3.33 \\end{pmatrix}\n",
        "$$"
      ],
      "metadata": {
        "id": "QNBAtCJSQeAj"
      }
    },
    {
      "cell_type": "code",
      "source": [
        "b_gorro = np.array([0.27, 0.25, 3.33])\n",
        "EcNormal(A, b_gorro)"
      ],
      "metadata": {
        "colab": {
          "base_uri": "https://localhost:8080/"
        },
        "id": "DagtFI7EQ9xt",
        "outputId": "c6b1ccf2-967d-435c-dca3-da095a24982b"
      },
      "execution_count": 71,
      "outputs": [
        {
          "output_type": "execute_result",
          "data": {
            "text/plain": [
              "array([ 7.00888731, -8.39566299])"
            ]
          },
          "metadata": {},
          "execution_count": 71
        }
      ]
    },
    {
      "cell_type": "markdown",
      "source": [
        "c) Compara los resultados de los incisos anteriores, ¿se puede explicar la diferencia entre ellos?. Incisos a) y b).\n",
        "La diferencia entre los dos vectores es grandisima, aunque podría creerse que no es mucho cambio en términos de distancia, comparado con la perturbación del vector solución que fue mínima, el proceso para encontrar la solución fue más complejo pues: el cambio en el vector solución no fue lineal ni creciente, es decir, a cada elemento del vector $b$ oríginal se le aplicó una traslación diferente, esto generó que el vector solución no tuviera un cambio lineal definido y por ende, se ocupabá de una solución en el espacio diferente."
      ],
      "metadata": {
        "id": "ZYQJCWI3RZ_d"
      }
    }
  ]
}