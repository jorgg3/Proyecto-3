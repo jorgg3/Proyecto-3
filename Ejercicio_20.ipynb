{
  "nbformat": 4,
  "nbformat_minor": 0,
  "metadata": {
    "colab": {
      "provenance": [],
      "authorship_tag": "ABX9TyNOrPbjJ7AzKRexzM1658I1",
      "include_colab_link": true
    },
    "kernelspec": {
      "name": "python3",
      "display_name": "Python 3"
    },
    "language_info": {
      "name": "python"
    }
  },
  "cells": [
    {
      "cell_type": "markdown",
      "metadata": {
        "id": "view-in-github",
        "colab_type": "text"
      },
      "source": [
        "<a href=\"https://colab.research.google.com/github/jorgg3/Proyecto-3/blob/main/Ejercicio_20.ipynb\" target=\"_parent\"><img src=\"https://colab.research.google.com/assets/colab-badge.svg\" alt=\"Open In Colab\"/></a>"
      ]
    },
    {
      "cell_type": "markdown",
      "source": [
        "# Práctica 3: Ajuste por Mínimos Cuadrados y Factorización QR\n",
        "**Problemas Computacionales**\\\n",
        "Alumno: Martínez de la Cruz José Jorge\\\n",
        "Profesor: César Carreón Otañez\\\n",
        "Ayudante:  Jesús Iván Coss Calderón"
      ],
      "metadata": {
        "id": "3_iPvuxqTU0J"
      }
    },
    {
      "cell_type": "markdown",
      "source": [
        "Para mostrar la diferencia numérica entre el método de las Ecuaciones Normales y la factorización QR se requiere un problema de mínimos cuadrados que sea mal condicionado. Para ello consideremos el ajuste del siguiente polinomio de grado $n-1$,\n",
        "$$\n",
        "p_{n-1}(t) =x_n t^{n-1} + x_{n-1} t^{n-2} + \\cdots + x_2 t + x_1\n",
        "$$\n",
        "\n",
        "\n",
        "Para $m$ datos $(t_i, y_i)$,  $m > n$. Elegimos $t_i = (i − 1)/(m − 1)$,  $i = 1,..., m$. Los valores para $y_i$ serán los dados al evaluar el polinomio con las $t_i$ dadas previamente y tomando $x_j = 1$ para $j = 1, ... , n$, se quiere ver si se pueden recuperar los valores de las $x_j$ con los métodos estudiados.\n",
        "Primero se genera un perturbación para los valores $y_i$ dado por\n",
        "$$\n",
        "y_i = y_i + (2u_i - 1) \\cdot \\epsilon, \\quad i = 1, \\dots, m\n",
        "$$\n",
        "con $u_i \\in [0, 1]$ números aleatorios. Usar $m = 21$, $n = 12$ y $ε = 10^{−10}$"
      ],
      "metadata": {
        "id": "y9UTEp3oTWc-"
      }
    },
    {
      "cell_type": "code",
      "source": [
        "import numpy as np"
      ],
      "metadata": {
        "id": "dvd6lCj-bpGk"
      },
      "execution_count": 27,
      "outputs": []
    },
    {
      "cell_type": "code",
      "execution_count": 9,
      "metadata": {
        "id": "rVIAtqNvTJ-V"
      },
      "outputs": [],
      "source": [
        "T = []\n",
        "for i in range (21):\n",
        "  ti = (i-1)/20\n",
        "  T.append(ti)"
      ]
    },
    {
      "cell_type": "code",
      "source": [
        "def polinomio(t):\n",
        "    resultado = 0\n",
        "    # Evaluamos el polinomio usando el valor de t\n",
        "    for i in range(12):\n",
        "        resultado += t**(12-i-1)\n",
        "\n",
        "    return resultado"
      ],
      "metadata": {
        "id": "turU5MjdXb86"
      },
      "execution_count": 10,
      "outputs": []
    },
    {
      "cell_type": "code",
      "source": [
        "Y = []\n",
        "for i in range (21):\n",
        "  yi = polinomio(T[i])\n",
        "  Y.append(yi)"
      ],
      "metadata": {
        "id": "7yj7TPx_YATS"
      },
      "execution_count": 21,
      "outputs": []
    },
    {
      "cell_type": "code",
      "source": [
        "import random\n",
        "U = []\n",
        "for i in range (21):\n",
        "  ui = random.random()\n",
        "  U.append(ui)\n",
        "E = 10**(-10)\n",
        "for i in range(21):\n",
        "  Y[i] = Y[i] + (2*U[i]-1)*E"
      ],
      "metadata": {
        "id": "ynyJShSuYhgy"
      },
      "execution_count": 22,
      "outputs": []
    },
    {
      "cell_type": "markdown",
      "source": [
        "Después de generar la lista de datos $(t_i, y_i)$ se comparan los dos métodos para ajustar el polinomio. Primero, formar el Sistema de Ecuaciones Normales para el problema y resolverlo por la Factorización de Cholesky. Segundo utilizar algún método para factorizar la matriz en una QR y resolver."
      ],
      "metadata": {
        "id": "rk9sLKxWZCCU"
      }
    },
    {
      "cell_type": "code",
      "source": [
        "matriz = []\n",
        "for t in T:\n",
        "    fila = [t**i for i in range(12)]\n",
        "    matriz.append(fila)\n",
        "A = np.array(matriz)"
      ],
      "metadata": {
        "id": "ApveMTFvZB1D"
      },
      "execution_count": 28,
      "outputs": []
    },
    {
      "cell_type": "markdown",
      "source": [
        "Importemos todos nuestros programas para resolver por ecuaciones normales:"
      ],
      "metadata": {
        "id": "RC3ZanocbkX3"
      }
    },
    {
      "cell_type": "code",
      "source": [
        "\n",
        "def SustDelante(L, b):\n",
        "    \"\"\"\n",
        "    Resuelve un sistema de ecuaciones L * x = b, donde L es una matriz triangular inferior.\n",
        "\n",
        "    Parámetros:\n",
        "    L (numpy.ndarray): Matriz triangular inferior.\n",
        "    b (numpy.ndarray): Vector columna de tamaño n, lado derecho del sistema.\n",
        "\n",
        "    Retorna:\n",
        "    x (numpy.ndarray): Vector solución del sistema L * x = b.\n",
        "    \"\"\"\n",
        "    x = np.zeros_like(b)  # Crea un vector x de ceros del mismo tamaño que b\n",
        "    n = L.shape[0]  # Obtiene el número de renglones de L\n",
        "    for i in range(n):  # Recorre las filas de L\n",
        "        sum = 0.0\n",
        "        for j in range(i):  # Suma los productos de la parte ya resuelta de x\n",
        "            sum += L[i, j] * x[j]\n",
        "        # Resuelve para x[i]\n",
        "        x[i] = (b[i] - sum) / L[i, i]\n",
        "\n",
        "    return x  # Devuelve la solución\n",
        "\n",
        "def SustAtras(U, y):\n",
        "    \"\"\"\n",
        "    Resuelve un sistema de ecuaciones U * x = y, donde U es una matriz triangular superior.\n",
        "\n",
        "    Parámetros:\n",
        "    U (numpy.ndarray): Matriz triangular superior.\n",
        "    y (numpy.ndarray): Vector columna de tamaño n, lado derecho del sistema.\n",
        "\n",
        "    Retorna:\n",
        "    x (numpy.ndarray): Vector solución del sistema U * x = y.\n",
        "    \"\"\"\n",
        "    x = np.zeros_like(y)  # Crea un vector x de ceros del mismo tamaño que y\n",
        "    n = U.shape[0]  # Obtiene el número de renglones de U\n",
        "    x[n-1] = y[n-1] / U[n-1, n-1]  # Resuelve el último valor de x\n",
        "    for i in range(n-2, -1, -1):  # Recorre las filas desde la penúltima hasta la primera\n",
        "        sum = 0.0\n",
        "        for j in range(i+1, n):  # Suma los productos de los valores ya resueltos de x\n",
        "            sum += U[i, j] * x[j]\n",
        "        # Resuelve para x[i]\n",
        "        x[i] = (y[i] - sum) / U[i, i]\n",
        "\n",
        "    return x  # Devuelve la solución\n"
      ],
      "metadata": {
        "id": "-zoZgvVVbjsD"
      },
      "execution_count": 29,
      "outputs": []
    },
    {
      "cell_type": "code",
      "source": [
        "def Cholesky(A):\n",
        "    \"\"\"\n",
        "    Realiza la descomposición de Cholesky de una matriz simétrica y definida positiva.\n",
        "\n",
        "    La descomposición de Cholesky de una matriz A se expresa como:\n",
        "    A = L * L^T\n",
        "    donde:\n",
        "        - A es la matriz de entrada (simétrica y definida positiva).\n",
        "        - L es una matriz triangular inferior (con ceros sobre la diagonal).\n",
        "\n",
        "    Parámetros:\n",
        "    A (numpy.ndarray): Matriz cuadrada simétrica y definida positiva de tamaño n x n.\n",
        "\n",
        "    Retorna:\n",
        "    L (numpy.ndarray): Matriz triangular inferior de tamaño n x n tal que A = L * L^T.\n",
        "\n",
        "    Excepciones:\n",
        "    Si la matriz A no es simétrica o definida positiva, este algoritmo puede fallar\n",
        "    o devolver resultados incorrectos.\n",
        "\n",
        "    El algoritmo sigue el siguiente procedimiento:\n",
        "    1. Inicializa una matriz L de ceros de las mismas dimensiones que A.\n",
        "    2. Calcula los elementos de la matriz triangular inferior L usando la fórmula de Cholesky.\n",
        "    3. La diagonal de L es calculada con la raíz cuadrada de los elementos de A.\n",
        "    4. Los elementos fuera de la diagonal se calculan usando las sumas de productos previamente computadas.\n",
        "\n",
        "    \"\"\"\n",
        "    # Determina el tamaño de la matriz A\n",
        "    n = len(A)\n",
        "\n",
        "    # Crea una matriz L de ceros del mismo tamaño que A\n",
        "    L = np.zeros_like(A)\n",
        "\n",
        "    # Recorre las filas y columnas de A para calcular los elementos de L\n",
        "    for i in range(n):\n",
        "        for j in range(i + 1):\n",
        "            # Si estamos en la diagonal principal\n",
        "            if i == j:\n",
        "                # Calculamos la suma de los cuadrados de los elementos previos de la fila\n",
        "                sum = 0.0\n",
        "                for k in range(j):\n",
        "                    sum += L[j][k] * L[j][k]\n",
        "                # La raíz cuadrada del valor en A[j][j] menos la suma anterior da el valor de L[j][j]\n",
        "                L[j][j] = np.sqrt(A[j][j] - sum)\n",
        "            else:\n",
        "                # Si estamos en la parte inferior de la matriz (por debajo de la diagonal)\n",
        "                sum = 0.0\n",
        "                for k in range(j):\n",
        "                    sum += L[i][k] * L[j][k]\n",
        "                # Usamos la fórmula para calcular los valores fuera de la diagonal\n",
        "                L[i][j] = (A[i][j] - sum) / L[j][j]\n",
        "\n",
        "    return L"
      ],
      "metadata": {
        "id": "diPMbVuGb1KL"
      },
      "execution_count": 30,
      "outputs": []
    },
    {
      "cell_type": "code",
      "source": [
        "def EcNormal(A, b):\n",
        "    \"\"\"\n",
        "    Resuelve el sistema de ecuaciones lineales A * x = b utilizando el método de los mínimos cuadrados\n",
        "    con la descomposición de Cholesky de la matriz A^T * A.\n",
        "\n",
        "    Este método se utiliza cuando el sistema no tiene solución exacta o es sobredeterminado (más ecuaciones que incógnitas).\n",
        "    En lugar de resolver el sistema directamente, se resuelve el sistema equivalente A^T * A * x = A^T * b,\n",
        "    que tiene solución en el sentido de los mínimos cuadrados.\n",
        "\n",
        "    Parámetros:\n",
        "    A (numpy.ndarray): Matriz de coeficientes del sistema de ecuaciones de tamaño m x n (m >= n).\n",
        "    b (numpy.ndarray): Vector columna de tamaño m, que es el lado derecho del sistema de ecuaciones.\n",
        "\n",
        "    Retorna:\n",
        "    xSol (numpy.ndarray): El vector solución x, que es la solución de mínimos cuadrados al sistema A * x = b.\n",
        "\n",
        "    Procedimiento:\n",
        "    1. Calculamos el sistema equivalente A^T * A * x = A^T * b.\n",
        "    2. Aplicamos la descomposición de Cholesky a la matriz A^T * A para obtener una matriz triangular inferior L.\n",
        "    3. Resolvemos el sistema triangular inferior L * y = A^T * b mediante sustitución hacia adelante (SustDelante).\n",
        "    4. Resolvemos el sistema triangular superior L^T * x = y mediante sustitución hacia atrás (SustAtras).\n",
        "    \"\"\"\n",
        "\n",
        "    # Calculamos el sistema equivalente A^T * A * x = A^T * b\n",
        "    AtA = A.T @ A  # Matriz generalizada (A^T * A)\n",
        "    Atb = A.T @ b  # Vector del sistema equivalente (A^T * b)\n",
        "\n",
        "    # Descomposición de Cholesky de A^T * A\n",
        "    L = Cholesky(AtA)  # L es la matriz triangular inferior tal que A^T * A = L * L^T\n",
        "    Lt = L.T  # La transpuesta de L, es la matriz triangular superior\n",
        "\n",
        "    # Resolvemos el sistema L * y = A^T * b mediante sustitución hacia adelante\n",
        "    ySol = SustDelante(L, Atb)\n",
        "\n",
        "    # Resolvemos el sistema L^T * x = ySol mediante sustitución hacia atrás\n",
        "    xSol = SustAtras(Lt, ySol)\n",
        "\n",
        "    return xSol"
      ],
      "metadata": {
        "id": "Qgk21KKsb4hm"
      },
      "execution_count": 31,
      "outputs": []
    },
    {
      "cell_type": "markdown",
      "source": [
        "Implementamos el programa con la matríz $A$ y las soluciones $Y$"
      ],
      "metadata": {
        "id": "aZ7nP37Qb5lw"
      }
    },
    {
      "cell_type": "code",
      "source": [
        "u = EcNormal(A, Y)\n",
        "print(u)"
      ],
      "metadata": {
        "colab": {
          "base_uri": "https://localhost:8080/"
        },
        "id": "x03ReynScAIY",
        "outputId": "b5a60b1e-0d8f-42bb-cb61-9731e303c468"
      },
      "execution_count": 48,
      "outputs": [
        {
          "output_type": "stream",
          "name": "stdout",
          "text": [
            "[1.         0.99999971 1.00000167 1.0000792  0.9987239  1.00846259\n",
            " 0.96885862 1.06960331 0.90318102 1.08197116 0.96130944 1.00780965]\n"
          ]
        }
      ]
    },
    {
      "cell_type": "markdown",
      "source": [
        "La solución con el método de ecuaciones normales es:\n",
        "\\begin{bmatrix}\n",
        "1.00000000 \\\\\n",
        "0.99999971 \\\\\n",
        "1.00000167 \\\\\n",
        "1.00007920 \\\\\n",
        "0.99872390 \\\\\n",
        "1.00846259 \\\\\n",
        "0.96885862 \\\\\n",
        "1.06960331 \\\\\n",
        "0.90318102 \\\\\n",
        "1.08197116 \\\\\n",
        "0.96130944 \\\\\n",
        "1.00780965\n",
        "\\end{bmatrix}\n"
      ],
      "metadata": {
        "id": "88BAyV_NcMtj"
      }
    },
    {
      "cell_type": "markdown",
      "source": [
        "Realícemos el procedimiento con el método de Gram Smitchd"
      ],
      "metadata": {
        "id": "Sqy6qYb4cj36"
      }
    },
    {
      "cell_type": "code",
      "source": [
        "def QR(A):\n",
        "    \"\"\"\n",
        "    Realiza la descomposición QR de una matriz A utilizando el método de Gram-Schmidt.\n",
        "\n",
        "    Parámetros:\n",
        "    A (numpy.ndarray): Matriz de entrada de tamaño (m x n), donde m es el número de filas y n el número de columnas.\n",
        "\n",
        "    Retorna:\n",
        "    Q (numpy.ndarray): Matriz ortogonal de tamaño (m x n), tal que Q^T * Q = I.\n",
        "    R (numpy.ndarray): Matriz triangular superior de tamaño (n x n).\n",
        "\n",
        "    El resultado satisface la relación A = Q * R, donde:\n",
        "    - Q es una matriz ortogonal (Q^T * Q = I).\n",
        "    - R es una matriz triangular superior.\n",
        "    \"\"\"\n",
        "\n",
        "    # Inicialización de las matrices Q y R\n",
        "    Q = np.empty_like(A)  # Matriz de salida Q, tendrá las mismas dimensiones que A\n",
        "    R = np.zeros([A.shape[1], A.shape[1]])  # Matriz cuadrada R de tamaño n x n\n",
        "    vi = np.zeros([A.shape[1]])  # Vector auxiliar vi\n",
        "\n",
        "    # Iteración sobre las columnas de A\n",
        "    for i in range(A.shape[1]):\n",
        "        # Comienza con el vector de la columna i de A\n",
        "        vi = A[:, i]\n",
        "\n",
        "        # Proceso de ortogonalización de Gram-Schmidt\n",
        "        for j in range(i):\n",
        "            # Calculamos la proyección de vi sobre los vectores Q anteriores\n",
        "            R[j, i] = np.dot(Q[:, j].T, vi)  # Proyección de vi sobre Q[:, j]\n",
        "            # Restamos la proyección de vi para mantener la ortogonalidad\n",
        "            vi = vi - R[j, i] * Q[:, j]\n",
        "\n",
        "        # Normalizamos el vector vi para obtener un vector unitario\n",
        "        R[i, i] = np.linalg.norm(vi, 2)  # Norma de vi, la longitud del vector\n",
        "        Q[:, i] = vi / R[i, i]  # Normalizamos para obtener el i-ésimo vector ortonormal de Q\n",
        "\n",
        "    # Retorna las matrices Q y R\n",
        "    return Q, R\n"
      ],
      "metadata": {
        "id": "wrOi4e5mcocE"
      },
      "execution_count": 35,
      "outputs": []
    },
    {
      "cell_type": "code",
      "source": [
        "def SolGS(A, b):\n",
        "    \"\"\"\n",
        "    Resuelve el sistema de ecuaciones lineales A * x = b utilizando la factorización QR de A.\n",
        "\n",
        "    Parámetros:\n",
        "    A (numpy.ndarray): Matriz de coeficientes del sistema de ecuaciones lineales de tamaño (m x n),\n",
        "                        donde m es el número de ecuaciones y n el número de incógnitas.\n",
        "    b (numpy.ndarray): Vector de términos independientes del sistema de tamaño (m,).\n",
        "\n",
        "    Retorna:\n",
        "    x (numpy.ndarray): Solución del sistema de ecuaciones de tamaño (n,), tal que A * x = b.\n",
        "\n",
        "\n",
        "    Después de realizar la descomposición QR, se resuelve el sistema Rx = Q^T * b. Este sistema triangular superior se resuelve usando\n",
        "    la sustitución hacia atrás. La solución se obtiene en dos pasos:\n",
        "\n",
        "    1. Calcular Q^T * b (esto se almacena en el vector bR).\n",
        "    2. Resolver el sistema triangular superior Rx = bR usando la sustitución hacia atrás.\n",
        "\n",
        "    \"\"\"\n",
        "\n",
        "    # Paso 1: Obtener la factorización QR de A\n",
        "    Q, R = QR(A)\n",
        "\n",
        "    # Paso 2: Calcular el vector bR = Q^T * b\n",
        "    bR = Q.T @ b\n",
        "\n",
        "    # Paso 3: Resolver el sistema triangular superior Rx = bR usando sustitución hacia atrás\n",
        "    x = SustAtras(R, bR)\n",
        "\n",
        "    return x\n"
      ],
      "metadata": {
        "id": "QYRxIbrycMQ6"
      },
      "execution_count": 37,
      "outputs": []
    },
    {
      "cell_type": "code",
      "source": [
        "v =SolGS(A, Y)\n",
        "print(v)\n"
      ],
      "metadata": {
        "colab": {
          "base_uri": "https://localhost:8080/"
        },
        "id": "sdk8wPOSdYte",
        "outputId": "eec16281-fb1b-4428-c8cd-28a2caeda798"
      },
      "execution_count": 46,
      "outputs": [
        {
          "output_type": "stream",
          "name": "stdout",
          "text": [
            "[1.         1.00000006 0.9999993  0.99998411 1.00032356 0.99763467\n",
            " 1.00926428 0.97833326 1.03121236 0.97282337 1.01312568 0.99729923]\n"
          ]
        }
      ]
    },
    {
      "cell_type": "markdown",
      "source": [
        "En este caso, el vector solución es:\n",
        "\\begin{bmatrix}\n",
        "1.00000000 \\\\\n",
        "1.00000006 \\\\\n",
        "0.99999930 \\\\\n",
        "0.99998411 \\\\\n",
        "1.00032356 \\\\\n",
        "0.99763467 \\\\\n",
        "1.00926428 \\\\\n",
        "0.97833326 \\\\\n",
        "1.03121236 \\\\\n",
        "0.97282337 \\\\\n",
        "1.01312568 \\\\\n",
        "0.99729923\n",
        "\\end{bmatrix}\n",
        "\n"
      ],
      "metadata": {
        "id": "eSXrnpqOd0S5"
      }
    },
    {
      "cell_type": "markdown",
      "source": [
        "Para responder a las preguntas, calcularemos la norma entre el vector solución"
      ],
      "metadata": {
        "id": "p_sZD9heeJKS"
      }
    },
    {
      "cell_type": "code",
      "source": [
        "z = np.ones_like(v)\n",
        "\n",
        "normaGS = np.linalg.norm(v - z)\n",
        "\n",
        "normaGS\n"
      ],
      "metadata": {
        "colab": {
          "base_uri": "https://localhost:8080/"
        },
        "id": "FuE_y99aeI_4",
        "outputId": "0a90eea0-cde0-4249-a6a9-c63413146b4c"
      },
      "execution_count": 47,
      "outputs": [
        {
          "output_type": "execute_result",
          "data": {
            "text/plain": [
              "0.049531127858416756"
            ]
          },
          "metadata": {},
          "execution_count": 47
        }
      ]
    },
    {
      "cell_type": "code",
      "source": [
        "normaEN = np.linalg.norm(u- z)\n",
        "normaEN"
      ],
      "metadata": {
        "colab": {
          "base_uri": "https://localhost:8080/"
        },
        "id": "3z6B4LTWdz7v",
        "outputId": "56bd8a4c-a865-4d29-aee3-6aaa0f5e6083"
      },
      "execution_count": 49,
      "outputs": [
        {
          "output_type": "execute_result",
          "data": {
            "text/plain": [
              "0.15342357214889343"
            ]
          },
          "metadata": {},
          "execution_count": 49
        }
      ]
    },
    {
      "cell_type": "markdown",
      "source": [
        "a) ¿Para cuál de los métodos la solución es más sensible a la perturbación generada? Dada la magnitud de las normas, para el sistema resuelto con ecuaciones normales"
      ],
      "metadata": {
        "id": "f3K5H7HifPOq"
      }
    },
    {
      "cell_type": "markdown",
      "source": [
        "b) ¿Cuál de los métodos está más proximo a tener la solución exacta dada por $x_i= 1$ Dada la norma, por el de Gram Smitchd"
      ],
      "metadata": {
        "id": "_RVkor61ffOf"
      }
    },
    {
      "cell_type": "markdown",
      "source": [
        "c) ¿La diferencia en las soluciones afecta en el ajuste de puntos $(ti, yi)$ por el polinomio, por qué?. Al obtenerse nuevos coeficientes, entonces el polinomio cambia, lo que indica que dependiendo el método obtendremos un vector solución diferente, es decir, que tendremos un ajuste de puntos diferente, estó está dado por la perturbación que en ambos casos fue distinta."
      ],
      "metadata": {
        "id": "EVKMjlSuf3dc"
      }
    }
  ]
}